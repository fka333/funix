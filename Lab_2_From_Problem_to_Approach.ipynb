{
  "nbformat": 4,
  "nbformat_minor": 0,
  "metadata": {
    "kernelspec": {
      "display_name": "Python 3",
      "language": "python",
      "name": "python3"
    },
    "language_info": {
      "codemirror_mode": {
        "name": "ipython",
        "version": 3
      },
      "file_extension": ".py",
      "mimetype": "text/x-python",
      "name": "python",
      "nbconvert_exporter": "python",
      "pygments_lexer": "ipython3",
      "version": "3.7.6"
    },
    "colab": {
      "name": "Lab 2_From-Problem-to-Approach.ipynb",
      "provenance": []
    }
  },
  "cells": [
    {
      "cell_type": "markdown",
      "metadata": {
        "button": false,
        "new_sheet": false,
        "run_control": {
          "read_only": false
        },
        "id": "d1984eCUOd4X"
      },
      "source": [
        "<img src = \"https://cf-courses-data.s3.us.cloud-object-storage.appdomain.cloud/IBMDeveloperSkillsNetwork-DS0103EN-SkillsNetwork/labs/Module%201/images/IDSNlogo.png\" width = 400>\n",
        "\n",
        "# From Problem to Approach\n",
        "\n",
        "Estimated time needed: **20** minutes\n",
        "\n",
        "## Objectives\n",
        "\n",
        "After completing this lab you will be able to:\n",
        "\n",
        "-   Have a Business Understanding of case studies\n",
        "-   Analytically approach problems\n"
      ]
    },
    {
      "cell_type": "markdown",
      "metadata": {
        "button": false,
        "new_sheet": false,
        "run_control": {
          "read_only": false
        },
        "id": "XnDyQwfOOd4j"
      },
      "source": [
        "## Table of Contents\n",
        "\n",
        "<div class=\"alert alert-block alert-info\" style=\"margin-top: 20px\">\n",
        "\n",
        "1.  [Business Understanding](#0)<br>\n",
        "2.  [Analytic Approach](#2) <br>\n",
        "    </div>\n",
        "    <hr>\n"
      ]
    },
    {
      "cell_type": "markdown",
      "metadata": {
        "button": false,
        "new_sheet": false,
        "run_control": {
          "read_only": false
        },
        "id": "kxjJDL7jOd4l"
      },
      "source": [
        "# Business Understanding <a id=\"0\"></a>\n"
      ]
    },
    {
      "cell_type": "markdown",
      "metadata": {
        "button": false,
        "new_sheet": false,
        "run_control": {
          "read_only": false
        },
        "id": "XrjzvucfOd4n"
      },
      "source": [
        "This is the **Data Science Methodology**, a flowchart that begins with business understanding.\n"
      ]
    },
    {
      "cell_type": "markdown",
      "metadata": {
        "button": false,
        "new_sheet": false,
        "run_control": {
          "read_only": false
        },
        "id": "deCoQ4LgOd4o"
      },
      "source": [
        "<img src=\"https://cf-courses-data.s3.us.cloud-object-storage.appdomain.cloud/IBMDeveloperSkillsNetwork-DS0103EN-SkillsNetwork/labs/Module%201/images/lab1_fig1_flowchart_business_understanding.png\" width=500>\n"
      ]
    },
    {
      "cell_type": "code",
      "metadata": {
        "id": "fptEdAltTNEW"
      },
      "source": [
        ""
      ],
      "execution_count": null,
      "outputs": []
    },
    {
      "cell_type": "markdown",
      "metadata": {
        "button": false,
        "new_sheet": false,
        "run_control": {
          "read_only": false
        },
        "id": "kur0M9qTOd4p"
      },
      "source": [
        "#### Why is the business understanding stage important?\n"
      ]
    },
    {
      "cell_type": "raw",
      "metadata": {
        "button": false,
        "new_sheet": false,
        "run_control": {
          "read_only": false
        },
        "id": "tElqtZpOOd4r"
      },
      "source": [
        "Your Answer: \n",
        "Because that stage help everyone to understand the context of the problem and the problem itself. With this knowledge to identify the goal and the object.\n"
      ]
    },
    {
      "cell_type": "markdown",
      "metadata": {
        "button": false,
        "new_sheet": false,
        "run_control": {
          "read_only": false
        },
        "id": "XdMxMSxHOd4u"
      },
      "source": [
        "<details><summary>Click here for the solution</summary>\n",
        "\n",
        "```python\n",
        "    #The correct answer is:\n",
        "    It helps clarify the goal of the entity asking the question.\n",
        "```\n",
        "\n",
        "</details>\n"
      ]
    },
    {
      "cell_type": "markdown",
      "metadata": {
        "button": false,
        "new_sheet": false,
        "run_control": {
          "read_only": false
        },
        "id": "X5zl7tGgOd4x"
      },
      "source": [
        "#### Looking at this diagram, we immediately spot two outstanding features of the data science methodology.\n"
      ]
    },
    {
      "cell_type": "markdown",
      "metadata": {
        "button": false,
        "new_sheet": false,
        "run_control": {
          "read_only": false
        },
        "id": "Q6c0d_H5Od47"
      },
      "source": [
        "<img src=\"https://cf-courses-data.s3.us.cloud-object-storage.appdomain.cloud/IBMDeveloperSkillsNetwork-DS0103EN-SkillsNetwork/labs/Module%201/images/lab1_fig2_datascience_methodology_flowchart.png\" width = 500> \n"
      ]
    },
    {
      "cell_type": "code",
      "metadata": {
        "id": "HH23twVtTH1X"
      },
      "source": [
        ""
      ],
      "execution_count": null,
      "outputs": []
    },
    {
      "cell_type": "markdown",
      "metadata": {
        "button": false,
        "new_sheet": false,
        "run_control": {
          "read_only": false
        },
        "id": "6IHFVZSFOd48"
      },
      "source": [
        "#### What are they?\n"
      ]
    },
    {
      "cell_type": "raw",
      "metadata": {
        "button": false,
        "new_sheet": false,
        "run_control": {
          "read_only": false
        },
        "id": "XkCJSD-QOd49"
      },
      "source": [
        "Your Answer: \n",
        "\n",
        "1.   Everything starts with business understanding\n",
        "2.   After 2 most fundamental steps (business understand and analytic approach), everything else is highly iterative\n"
      ]
    },
    {
      "cell_type": "markdown",
      "metadata": {
        "button": false,
        "new_sheet": false,
        "run_control": {
          "read_only": false
        },
        "id": "1F8SBh_tOd4-"
      },
      "source": [
        "<details><summary>Click here for the solution</summary>\n",
        "\n",
        "```python\n",
        "    #The correct answer is:\n",
        "    # 1. The flowchart is highly iterative.\n",
        "    #2. The flowchart never ends. \n",
        "```\n",
        "\n",
        "</details>\n"
      ]
    },
    {
      "cell_type": "markdown",
      "metadata": {
        "button": false,
        "new_sheet": false,
        "run_control": {
          "read_only": false
        },
        "id": "ESsCYwLnOd4_"
      },
      "source": [
        "#### Now let's illustrate the data science methodology with a case study.\n"
      ]
    },
    {
      "cell_type": "markdown",
      "metadata": {
        "button": false,
        "new_sheet": false,
        "run_control": {
          "read_only": false
        },
        "id": "wc-WnuH5Od5A"
      },
      "source": [
        "Say, we are interested in automating the process of figuring out the cuisine of a given dish or recipe. Let's apply the business understanding stage to this problem.\n"
      ]
    },
    {
      "cell_type": "markdown",
      "metadata": {
        "button": false,
        "new_sheet": false,
        "run_control": {
          "read_only": false
        },
        "id": "zrj1hWFTOd5A"
      },
      "source": [
        "#### Q. Can we predict the cuisine of a given dish using the name of the dish only?\n"
      ]
    },
    {
      "cell_type": "raw",
      "metadata": {
        "button": false,
        "new_sheet": false,
        "run_control": {
          "read_only": false
        },
        "id": "O0fe-s25Od5B"
      },
      "source": [
        "Your Answer: No\n",
        "\n"
      ]
    },
    {
      "cell_type": "markdown",
      "metadata": {
        "button": false,
        "new_sheet": false,
        "run_control": {
          "read_only": false
        },
        "id": "1gW5PAuSOd5B"
      },
      "source": [
        "<details><summary>Click here for the solution</summary>\n",
        "\n",
        "```python\n",
        "    #The correct answer is:\n",
        "    No.\n",
        "```\n",
        "\n",
        "</details>\n"
      ]
    },
    {
      "cell_type": "markdown",
      "metadata": {
        "button": false,
        "new_sheet": false,
        "run_control": {
          "read_only": false
        },
        "id": "kaQbayH8Od5C"
      },
      "source": [
        "#### Q. For example, the following dish names were taken from the menu of a local restaurant in Toronto, Ontario in Canada.\n",
        "\n",
        "#### 1. Beast\n",
        "\n",
        "#### 2. 2 PM\n",
        "\n",
        "#### 3. 4 Minute\n"
      ]
    },
    {
      "cell_type": "markdown",
      "metadata": {
        "button": false,
        "new_sheet": false,
        "run_control": {
          "read_only": false
        },
        "id": "XXY9T3hkOd5D"
      },
      "source": [
        "#### Are you able to tell the cuisine of these dishes?\n"
      ]
    },
    {
      "cell_type": "raw",
      "metadata": {
        "button": false,
        "new_sheet": false,
        "run_control": {
          "read_only": false
        },
        "id": "GhdCJ3xeOd5D"
      },
      "source": [
        "Your Answer: Surely not\n",
        "\n"
      ]
    },
    {
      "cell_type": "markdown",
      "metadata": {
        "button": false,
        "new_sheet": false,
        "run_control": {
          "read_only": false
        },
        "id": "NC76pEZBOd5E"
      },
      "source": [
        "<details><summary>Click here for the solution</summary>\n",
        "\n",
        "```python\n",
        "    #The correct answer is:\n",
        "    The cuisine is <strong>Japanese</strong>. Here are links to the images of the dishes: \n",
        "  \n",
        "    Beast: https://ibm.box.com/shared/static/5e7duvewfl5bk4317sna5skvdhrehro2.png\n",
        "            \n",
        "    2PM: https://ibm.box.com/shared/static/d9xuzqm8cq76zxxcc0f9gdts4iksipyk.png\n",
        "    \n",
        "    4 Minute: https://ibm.box.com/shared/static/f1fwvvwn4u8rx8tghep6zyj5pi6a8v8k.png\n",
        "\n",
        "            Photographs by Avlxyz: https://commons.wikimedia.org/wiki/Category:Photographs_by_Avlxyz\n",
        "                        \n",
        "```\n",
        "\n",
        "</details>\n"
      ]
    },
    {
      "cell_type": "markdown",
      "metadata": {
        "button": false,
        "new_sheet": false,
        "run_control": {
          "read_only": false
        },
        "id": "V2tY9yeDOd5G"
      },
      "source": [
        "#### Q. What about by appearance only? Yes or No.\n"
      ]
    },
    {
      "cell_type": "raw",
      "metadata": {
        "button": false,
        "new_sheet": false,
        "run_control": {
          "read_only": false
        },
        "id": "Wss2tAv1Od5H"
      },
      "source": [
        "Your Answer: Maybe\n",
        "\n"
      ]
    },
    {
      "cell_type": "markdown",
      "metadata": {
        "button": false,
        "new_sheet": false,
        "run_control": {
          "read_only": false
        },
        "id": "hxGmj4l6Od5I"
      },
      "source": [
        "<details><summary>Click here for the solution</summary>\n",
        "\n",
        "```python\n",
        "    #The correct answer is:\n",
        "    No, especially when it comes to countries in close geographical proximity such as Scandinavian countries, or Asian countries.\n",
        "    \n",
        "```\n",
        "\n",
        "</details>\n"
      ]
    },
    {
      "cell_type": "markdown",
      "metadata": {
        "button": false,
        "new_sheet": false,
        "run_control": {
          "read_only": false
        },
        "id": "bqQLyrDDOd5J"
      },
      "source": [
        "At this point, we realize that automating the process of determining the cuisine of a given dish is not a straightforward problem as we need to come up with a way that is very robust to the many cuisines and their variations.\n"
      ]
    },
    {
      "cell_type": "markdown",
      "metadata": {
        "button": false,
        "new_sheet": false,
        "run_control": {
          "read_only": false
        },
        "id": "_Oi7EAojOd5K"
      },
      "source": [
        "#### Q. What about determining the cuisine of a dish based on its ingredients?\n"
      ]
    },
    {
      "cell_type": "raw",
      "metadata": {
        "button": false,
        "new_sheet": false,
        "run_control": {
          "read_only": false
        },
        "id": "nHmgCskNOd5K"
      },
      "source": [
        "Your Answer: Maybe\n",
        "\n"
      ]
    },
    {
      "cell_type": "markdown",
      "metadata": {
        "button": false,
        "new_sheet": false,
        "run_control": {
          "read_only": false
        },
        "id": "4o6ET0n2Od5L"
      },
      "source": [
        "<details><summary>Click here for the solution</summary>\n",
        "\n",
        "```python\n",
        "    #The correct answer is:\n",
        "    Potentially yes, as there are specific ingredients unique to each cuisine.\n",
        "\n",
        "```\n",
        "\n",
        "</details>\n"
      ]
    },
    {
      "cell_type": "markdown",
      "metadata": {
        "button": false,
        "new_sheet": false,
        "run_control": {
          "read_only": false
        },
        "id": "TrgN9btzOd5L"
      },
      "source": [
        "As you guessed, yes determining the cuisine of a given dish based on its ingredients seems like a viable solution as some ingredients are unique to cuisines. For example:\n"
      ]
    },
    {
      "cell_type": "markdown",
      "metadata": {
        "button": false,
        "new_sheet": false,
        "run_control": {
          "read_only": false
        },
        "id": "QmWCl4HrOd5M"
      },
      "source": [
        "-   When we talk about **American** cuisines, the first ingredient that comes to one's mind (or at least to my mind =D) is beef or turkey.\n",
        "\n",
        "-   When we talk about **British** cuisines, the first ingredient that comes to one's mind is haddock or mint sauce.\n",
        "\n",
        "-   When we talk about **Canadian** cuisines, the first ingredient that comes to one's mind is bacon or poutine.\n",
        "\n",
        "-   When we talk about **French** cuisines, the first ingredient that comes to one's mind is bread or butter.\n",
        "\n",
        "-   When we talk about **Italian** cuisines, the first ingredient that comes to one's mind is tomato or ricotta.\n",
        "\n",
        "-   When we talk about **Japanese** cuisines, the first ingredient that comes to one's mind is seaweed or soy sauce.\n",
        "\n",
        "-   When we talk about **Chinese** cuisines, the first ingredient that comes to one's mind is ginger or garlic.\n",
        "\n",
        "-   When we talk about **indian** cuisines, the first ingredient that comes to one's mind is masala or chillis.\n"
      ]
    },
    {
      "cell_type": "markdown",
      "metadata": {
        "button": false,
        "new_sheet": false,
        "run_control": {
          "read_only": false
        },
        "id": "wnDHK2efOd5N"
      },
      "source": [
        "#### Accordingly, can you determine the cuisine of the dish associated with the following list of ingredients?\n"
      ]
    },
    {
      "cell_type": "markdown",
      "metadata": {
        "button": false,
        "new_sheet": false,
        "run_control": {
          "read_only": false
        },
        "id": "j5AitAUlOd5O"
      },
      "source": [
        "<img src=\"https://cf-courses-data.s3.us.cloud-object-storage.appdomain.cloud/IBMDeveloperSkillsNetwork-DS0103EN-SkillsNetwork/labs/Module%201/lab1_fig3_ingredients.png\" width=600>\n"
      ]
    },
    {
      "cell_type": "raw",
      "metadata": {
        "button": false,
        "new_sheet": false,
        "run_control": {
          "read_only": false
        },
        "id": "_qso449NOd5O"
      },
      "source": [
        "Your Answer: Firstly, it should be Asian one, South East or East Asia to be exact. Secondly, to my knowledge, i would eleminate Vietnamese and Chinese, because rarely in these countries, one dish contains avocado.\n",
        "So maybe this cuisine is from Japan or Korea due to seaweed usage\n",
        "\n"
      ]
    },
    {
      "cell_type": "markdown",
      "metadata": {
        "button": false,
        "new_sheet": false,
        "run_control": {
          "read_only": false
        },
        "id": "TXluMUtaOd5P"
      },
      "source": [
        "<details><summary>Click here for the solution</summary>\n",
        "\n",
        "```python\n",
        "    #The correct answer is:\n",
        "    Japanese since the recipe is most likely that of a sushi roll.\n",
        "\n",
        "```\n",
        "\n",
        "</details>\n"
      ]
    },
    {
      "cell_type": "markdown",
      "metadata": {
        "button": false,
        "new_sheet": false,
        "run_control": {
          "read_only": false
        },
        "id": "6VF5QbGGOd5P"
      },
      "source": [
        "# Analytic Approach <a id=\"2\"></a>\n"
      ]
    },
    {
      "cell_type": "markdown",
      "metadata": {
        "button": false,
        "new_sheet": false,
        "run_control": {
          "read_only": false
        },
        "id": "EkgdJiMzOd5Q"
      },
      "source": [
        "<img src=\"https://cf-courses-data.s3.us.cloud-object-storage.appdomain.cloud/IBMDeveloperSkillsNetwork-DS0103EN-SkillsNetwork/labs/Module%201/images/lab1_fig4_flowchart_analytic_approach.png\" width=500>\n"
      ]
    },
    {
      "cell_type": "markdown",
      "metadata": {
        "button": false,
        "new_sheet": false,
        "run_control": {
          "read_only": false
        },
        "id": "sIZ_cOKUOd5Q"
      },
      "source": [
        "#### So why are we interested in data science?\n"
      ]
    },
    {
      "cell_type": "markdown",
      "metadata": {
        "button": false,
        "new_sheet": false,
        "run_control": {
          "read_only": false
        },
        "id": "ePNHq7VtOd5R"
      },
      "source": [
        "Once the business problem has been clearly stated, the data scientist can define the analytic approach to solve the problem. This step entails expressing the problem in the context of statistical and machine-learning techniques, so that the entity or stakeholders with the problem can identify the most suitable techniques for the desired outcome. \n"
      ]
    },
    {
      "cell_type": "markdown",
      "metadata": {
        "button": false,
        "new_sheet": false,
        "run_control": {
          "read_only": false
        },
        "id": "CgTMEf5BOd5S"
      },
      "source": [
        "#### Why is the analytic approach stage important?\n"
      ]
    },
    {
      "cell_type": "raw",
      "metadata": {
        "button": false,
        "new_sheet": false,
        "run_control": {
          "read_only": false
        },
        "id": "cIYDHbRPOd5T"
      },
      "source": [
        "Your Answer: Because this step helps every after-step go to the right approach, reduce time to get the best result with the least effort\n",
        "\n"
      ]
    },
    {
      "cell_type": "markdown",
      "metadata": {
        "button": false,
        "new_sheet": false,
        "run_control": {
          "read_only": false
        },
        "id": "XAHcuWNkOd5T"
      },
      "source": [
        "<details><summary>Click here for the solution</summary>\n",
        "\n",
        "```python\n",
        "    #The correct answer is:\n",
        "    Because it helps identify what type of patterns will be needed to address the question most effectively.\n",
        "\n",
        "```\n",
        "\n",
        "</details>\n"
      ]
    },
    {
      "cell_type": "markdown",
      "metadata": {
        "button": false,
        "new_sheet": false,
        "run_control": {
          "read_only": false
        },
        "id": "MXTYCHLxOd5V"
      },
      "source": [
        "#### Let's explore a machine learning algorithm, decision trees, and see if it is the right technique to automate the process of identifying the cuisine of a given dish or recipe while simultaneously providing us with some insight on why a given recipe is believed to belong to a certain type of cuisine.\n"
      ]
    },
    {
      "cell_type": "markdown",
      "metadata": {
        "button": false,
        "new_sheet": false,
        "run_control": {
          "read_only": false
        },
        "id": "ixSfRy5DOd5V"
      },
      "source": [
        "This is a decision tree that a naive person might create manually. Starting at the top with all the recipes for all the cuisines in the world, if a recipe contains **rice**, then this decision tree would classify it as a **Japanese** cuisine. Otherwise, it would be classified as not a **Japanese** cuisine.\n"
      ]
    },
    {
      "cell_type": "markdown",
      "metadata": {
        "button": false,
        "new_sheet": false,
        "run_control": {
          "read_only": false
        },
        "id": "93iE4wFJOd5W"
      },
      "source": [
        "<img src=\"https://cf-courses-data.s3.us.cloud-object-storage.appdomain.cloud/IBMDeveloperSkillsNetwork-DS0103EN-SkillsNetwork/labs/Module%201/images/lab1_fig5_decision_tree_3.png\" width=500>\n"
      ]
    },
    {
      "cell_type": "markdown",
      "metadata": {
        "button": false,
        "new_sheet": false,
        "run_control": {
          "read_only": false
        },
        "id": "GJvr81slOd5W"
      },
      "source": [
        "#### Is this a good decision tree?  Yes or  No, and why?\n"
      ]
    },
    {
      "cell_type": "raw",
      "metadata": {
        "button": false,
        "new_sheet": false,
        "run_control": {
          "read_only": false
        },
        "id": "hLWdDSt4Od5W"
      },
      "source": [
        "Your Answer: No. Because its too naive. Not all rice cuisine is from Japanese\n",
        "\n"
      ]
    },
    {
      "cell_type": "markdown",
      "metadata": {
        "button": false,
        "new_sheet": false,
        "run_control": {
          "read_only": false
        },
        "id": "8iHS3e9VOd5X"
      },
      "source": [
        "<details><summary>Click here for the solution</summary>\n",
        "\n",
        "```python\n",
        "    #The correct answer is:\n",
        "    No, because a plethora of dishes from other cuisines contain rice. Therefore, using rice as the ingredient in the Decision node to split on is not a good choice.\n",
        "    \n",
        "```\n",
        "\n",
        "</details>\n"
      ]
    },
    {
      "cell_type": "markdown",
      "metadata": {
        "button": false,
        "new_sheet": false,
        "run_control": {
          "read_only": false
        },
        "id": "3Hk24VFEOd5X"
      },
      "source": [
        "#### In order to build a very powerful decision tree for the recipe case study, let's take some time to learn more about decision trees.\n"
      ]
    },
    {
      "cell_type": "markdown",
      "metadata": {
        "button": false,
        "new_sheet": false,
        "run_control": {
          "read_only": false
        },
        "id": "jhuEKAMKOd5X"
      },
      "source": [
        "-   Decision trees are built using recursive partitioning to classify the data.\n",
        "-   When partitioning the data, decision trees use the most predictive feature (ingredient in this case) to split the data.\n",
        "-   **Predictiveness** is based on decrease in entropy - gain in information, or _impurity_.\n"
      ]
    },
    {
      "cell_type": "markdown",
      "metadata": {
        "button": false,
        "new_sheet": false,
        "run_control": {
          "read_only": false
        },
        "id": "VOEw1w8GOd5Y"
      },
      "source": [
        "#### Suppose that our data is comprised of green triangles and red circles.\n"
      ]
    },
    {
      "cell_type": "markdown",
      "metadata": {
        "button": false,
        "new_sheet": false,
        "run_control": {
          "read_only": false
        },
        "id": "ksv4IlomOd5Z"
      },
      "source": [
        "The following decision tree would be considered the optimal model for classifying the data into a node for green triangles and a node for red circles.\n"
      ]
    },
    {
      "cell_type": "markdown",
      "metadata": {
        "button": false,
        "new_sheet": false,
        "run_control": {
          "read_only": false
        },
        "id": "l1jpAIUaOd5a"
      },
      "source": [
        "<img src=\"https://cf-courses-data.s3.us.cloud-object-storage.appdomain.cloud/IBMDeveloperSkillsNetwork-DS0103EN-SkillsNetwork/labs/Module%201/images/lab1_fig6_decision_tree_5.png\" width=400>\n"
      ]
    },
    {
      "cell_type": "markdown",
      "metadata": {
        "button": false,
        "new_sheet": false,
        "run_control": {
          "read_only": false
        },
        "id": "3dbbez8lOd5a"
      },
      "source": [
        "Each of the classes in the leaf nodes are completely pure – that is, each leaf node only contains datapoints that belong to the same class.\n"
      ]
    },
    {
      "cell_type": "markdown",
      "metadata": {
        "button": false,
        "new_sheet": false,
        "run_control": {
          "read_only": false
        },
        "id": "KzmS2sPlOd5b"
      },
      "source": [
        "On the other hand, the following decision tree is an example of the worst-case scenario that the model could output. \n"
      ]
    },
    {
      "cell_type": "markdown",
      "metadata": {
        "button": false,
        "new_sheet": false,
        "run_control": {
          "read_only": false
        },
        "id": "JD3i4ekROd5b"
      },
      "source": [
        "<img src=\"https://cf-courses-data.s3.us.cloud-object-storage.appdomain.cloud/IBMDeveloperSkillsNetwork-DS0103EN-SkillsNetwork/labs/Module%201/images/lab1_fig7_decision_tree_2.png\" width=500>\n"
      ]
    },
    {
      "cell_type": "markdown",
      "metadata": {
        "button": false,
        "new_sheet": false,
        "run_control": {
          "read_only": false
        },
        "id": "SqO0fSNpOd5c"
      },
      "source": [
        "Each leaf node contains datapoints belonging to the two classes resulting in many datapoints ultimately being misclassified.\n"
      ]
    },
    {
      "cell_type": "markdown",
      "metadata": {
        "button": false,
        "new_sheet": false,
        "run_control": {
          "read_only": false
        },
        "id": "pxj0wH4WOd5d"
      },
      "source": [
        "#### A tree stops growing at a node when:\n",
        "\n",
        "-   Pure or nearly pure.\n",
        "-   No remaining variables on which to further subset the data.\n",
        "-   The tree has grown to a preselected size limit.\n"
      ]
    },
    {
      "cell_type": "markdown",
      "metadata": {
        "button": false,
        "new_sheet": false,
        "run_control": {
          "read_only": false
        },
        "id": "zGYowlYTOd5d"
      },
      "source": [
        "#### Here are some characteristics of decision trees:\n"
      ]
    },
    {
      "cell_type": "markdown",
      "metadata": {
        "button": false,
        "new_sheet": false,
        "run_control": {
          "read_only": false
        },
        "id": "rl5L7sj3Od5e"
      },
      "source": [
        "<img src=\"https://cf-courses-data.s3.us.cloud-object-storage.appdomain.cloud/IBMDeveloperSkillsNetwork-DS0103EN-SkillsNetwork/labs/Module%201/images/lab1_fig8_decision_trees_table.png\" width=800>\n"
      ]
    },
    {
      "cell_type": "markdown",
      "metadata": {
        "button": false,
        "new_sheet": false,
        "run_control": {
          "read_only": false
        },
        "id": "JmdLGrFwOd5f"
      },
      "source": [
        "Now let's put what we learned about decision trees to use. Let's try and build a much better version of the decision tree for our recipe problem.\n"
      ]
    },
    {
      "cell_type": "markdown",
      "metadata": {
        "button": false,
        "new_sheet": false,
        "run_control": {
          "read_only": false
        },
        "id": "PLyqQDtROd5f"
      },
      "source": [
        "<img src=\"https://cf-courses-data.s3.us.cloud-object-storage.appdomain.cloud/IBMDeveloperSkillsNetwork-DS0103EN-SkillsNetwork/labs/Module%201/images/lab1_fig9_decision_tree_4.png\" width = 500>\n"
      ]
    },
    {
      "cell_type": "markdown",
      "metadata": {
        "button": false,
        "new_sheet": false,
        "run_control": {
          "read_only": false
        },
        "id": "VOBP7Na6Od5g"
      },
      "source": [
        "I hope you agree that the above decision tree is a much better version than the previous one. Although we are still using **Rice** as the ingredient in the first _decision node_, recipes get divided into **Asian Food** and **Non-Asian Food**. **Asian Food** is then further divided into **Japanese** and **Not Japanese** based on the **Wasabi** ingredient. This process of splitting _leaf nodes_ continues until each _leaf node_ is pure, i.e., containing recipes belonging to only one cuisine.\n"
      ]
    },
    {
      "cell_type": "markdown",
      "metadata": {
        "button": false,
        "new_sheet": false,
        "run_control": {
          "read_only": false
        },
        "id": "61zHgRliOd5g"
      },
      "source": [
        "Accordingly, decision trees is a suitable technique or algorithm for our recipe case study.\n"
      ]
    },
    {
      "cell_type": "markdown",
      "metadata": {
        "button": false,
        "new_sheet": false,
        "run_control": {
          "read_only": false
        },
        "id": "pGqiDo2BOd5h"
      },
      "source": [
        "### Thank you for completing this lab!\n",
        "\n",
        "This notebook was created by Alex Aklson. I hope you found this lab session interesting. Feel free to contact me if you have any questions!\n"
      ]
    },
    {
      "cell_type": "markdown",
      "metadata": {
        "button": false,
        "new_sheet": false,
        "run_control": {
          "read_only": false
        },
        "id": "5VZDVIlSOd5h"
      },
      "source": [
        "This notebook is part of a course called _The Data Science Method_. If you accessed this notebook outside the course, you can take this course, online by clicking [here](https://cocl.us/DS0103EN-Exercise-From-Problem-to-Approach).\n"
      ]
    },
    {
      "cell_type": "markdown",
      "metadata": {
        "button": false,
        "new_sheet": false,
        "run_control": {
          "read_only": false
        },
        "id": "823UvwheOd5i"
      },
      "source": [
        "## Author\n",
        "\n",
        "<a href=\"https://www.linkedin.com/in/joseph-s-50398b136/\" target=\"_blank\">Joseph Santarcangelo</a>\n",
        "\n",
        "## Change Log\n",
        "\n",
        "| Date (YYYY-MM-DD) | Version | Changed By | Change Description                 |\n",
        "| ----------------- | ------- | ---------- | ---------------------------------- |\n",
        "| 2020-09-25        | 2.1     | Lakshmi    | Fixed Typo errors                  |\n",
        "| 2020-08-27        | 2.0     | Lavanya    | Moved lab to course repo in GitLab |\n",
        "\n",
        "<hr>\n",
        "\n",
        "## <h3 align=\"center\"> © IBM Corporation 2020. All rights reserved. <h3/>\n"
      ]
    }
  ]
}