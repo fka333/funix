{
 "cells": [
  {
   "cell_type": "code",
   "execution_count": 1,
   "id": "84306676",
   "metadata": {},
   "outputs": [
    {
     "data": {
      "text/plain": [
       "2"
      ]
     },
     "execution_count": 1,
     "metadata": {},
     "output_type": "execute_result"
    }
   ],
   "source": [
    "1+1"
   ]
  },
  {
   "cell_type": "markdown",
   "id": "3cd021ac",
   "metadata": {},
   "source": [
    "My title"
   ]
  },
  {
   "cell_type": "markdown",
   "id": "8dec162e",
   "metadata": {},
   "source": [
    "|header|header|"
   ]
  },
  {
   "cell_type": "code",
   "execution_count": null,
   "id": "8cf23ccf",
   "metadata": {},
   "outputs": [],
   "source": []
  }
 ],
 "metadata": {
  "kernelspec": {
   "display_name": "Python 3",
   "language": "python",
   "name": "python3"
  },
  "language_info": {
   "codemirror_mode": {
    "name": "ipython",
    "version": 3
   },
   "file_extension": ".py",
   "mimetype": "text/x-python",
   "name": "python",
   "nbconvert_exporter": "python",
   "pygments_lexer": "ipython3",
   "version": "3.8.8"
  }
 },
 "nbformat": 4,
 "nbformat_minor": 5
}
