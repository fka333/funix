{
  "nbformat": 4,
  "nbformat_minor": 0,
  "metadata": {
    "kernelspec": {
      "display_name": "Python 3",
      "language": "python",
      "name": "python3"
    },
    "language_info": {
      "codemirror_mode": {
        "name": "ipython",
        "version": 3
      },
      "file_extension": ".py",
      "mimetype": "text/x-python",
      "name": "python",
      "nbconvert_exporter": "python",
      "pygments_lexer": "ipython3",
      "version": "3.7.6"
    },
    "colab": {
      "name": "Lab 10-Creating_Simple_API_2__v2.ipynb",
      "provenance": []
    }
  },
  "cells": [
    {
      "cell_type": "markdown",
      "metadata": {
        "id": "1rIDqkpLYB2A"
      },
      "source": [
        "<center>\n",
        "    <img src=\"https://cf-courses-data.s3.us.cloud-object-storage.appdomain.cloud/IBMDeveloperSkillsNetwork-PY0101EN-SkillsNetwork/IDSNlogo.png\" width=\"300\" alt=\"cognitiveclass.ai logo\"  />\n",
        "</center>\n",
        "\n",
        "# Application Programming Interface\n",
        "\n",
        "Estimated time needed: **15** minutes\n",
        "\n",
        "## Objectives\n",
        "\n",
        "After completing this lab you will be able to:\n",
        "\n",
        "-   Create and Use APIs in Python\n"
      ]
    },
    {
      "cell_type": "markdown",
      "metadata": {
        "id": "O8yNd7hxYB2S"
      },
      "source": [
        "### Introduction\n",
        "\n",
        "An API lets two pieces of software talk to each other. Just like a function,  you don’t have to know how the API works only its inputs and outputs.  An essential type of API is a REST API that allows you to access resources via the internet. In this lab, we will review the Pandas Library  in the context of an API, we will also review a basic REST API  \n"
      ]
    },
    {
      "cell_type": "markdown",
      "metadata": {
        "id": "i5gAeQHxYB2U"
      },
      "source": [
        "## Table of Contents\n",
        "\n",
        "<div class=\"alert alert-block alert-info\" style=\"margin-top: 20px\">\n",
        "<li><a href=\"#ref0\">Pandas is an API</a></li>\n",
        "<li><a href=\"#ref1\">REST APIs Basics  </a></li>\n",
        "<li><a href=\"#ref2\">Quiz on Tuples</a></li>\n",
        "\n",
        "</div>\n",
        "\n",
        "<hr>\n"
      ]
    },
    {
      "cell_type": "code",
      "metadata": {
        "jupyter": {
          "outputs_hidden": false
        },
        "id": "vip3sbowYB2V",
        "outputId": "27afab90-ff94-479b-b3f3-7653effa02cf",
        "colab": {
          "base_uri": "https://localhost:8080/"
        }
      },
      "source": [
        "!pip install pycoingecko\n",
        "!pip install plotly\n",
        "!pip install mplfinance"
      ],
      "execution_count": 1,
      "outputs": [
        {
          "output_type": "stream",
          "name": "stdout",
          "text": [
            "Collecting pycoingecko\n",
            "  Downloading pycoingecko-2.2.0-py3-none-any.whl (8.3 kB)\n",
            "Requirement already satisfied: requests in /usr/local/lib/python3.7/dist-packages (from pycoingecko) (2.23.0)\n",
            "Requirement already satisfied: certifi>=2017.4.17 in /usr/local/lib/python3.7/dist-packages (from requests->pycoingecko) (2021.10.8)\n",
            "Requirement already satisfied: urllib3!=1.25.0,!=1.25.1,<1.26,>=1.21.1 in /usr/local/lib/python3.7/dist-packages (from requests->pycoingecko) (1.24.3)\n",
            "Requirement already satisfied: idna<3,>=2.5 in /usr/local/lib/python3.7/dist-packages (from requests->pycoingecko) (2.10)\n",
            "Requirement already satisfied: chardet<4,>=3.0.2 in /usr/local/lib/python3.7/dist-packages (from requests->pycoingecko) (3.0.4)\n",
            "Installing collected packages: pycoingecko\n",
            "Successfully installed pycoingecko-2.2.0\n",
            "Requirement already satisfied: plotly in /usr/local/lib/python3.7/dist-packages (5.5.0)\n",
            "Requirement already satisfied: six in /usr/local/lib/python3.7/dist-packages (from plotly) (1.15.0)\n",
            "Requirement already satisfied: tenacity>=6.2.0 in /usr/local/lib/python3.7/dist-packages (from plotly) (8.0.1)\n",
            "Collecting mplfinance\n",
            "  Downloading mplfinance-0.12.8b9-py3-none-any.whl (70 kB)\n",
            "\u001b[K     |████████████████████████████████| 70 kB 3.7 MB/s \n",
            "\u001b[?25hRequirement already satisfied: matplotlib in /usr/local/lib/python3.7/dist-packages (from mplfinance) (3.2.2)\n",
            "Requirement already satisfied: pandas in /usr/local/lib/python3.7/dist-packages (from mplfinance) (1.3.5)\n",
            "Requirement already satisfied: cycler>=0.10 in /usr/local/lib/python3.7/dist-packages (from matplotlib->mplfinance) (0.11.0)\n",
            "Requirement already satisfied: python-dateutil>=2.1 in /usr/local/lib/python3.7/dist-packages (from matplotlib->mplfinance) (2.8.2)\n",
            "Requirement already satisfied: pyparsing!=2.0.4,!=2.1.2,!=2.1.6,>=2.0.1 in /usr/local/lib/python3.7/dist-packages (from matplotlib->mplfinance) (3.0.7)\n",
            "Requirement already satisfied: kiwisolver>=1.0.1 in /usr/local/lib/python3.7/dist-packages (from matplotlib->mplfinance) (1.4.0)\n",
            "Requirement already satisfied: numpy>=1.11 in /usr/local/lib/python3.7/dist-packages (from matplotlib->mplfinance) (1.21.5)\n",
            "Requirement already satisfied: typing-extensions in /usr/local/lib/python3.7/dist-packages (from kiwisolver>=1.0.1->matplotlib->mplfinance) (3.10.0.2)\n",
            "Requirement already satisfied: six>=1.5 in /usr/local/lib/python3.7/dist-packages (from python-dateutil>=2.1->matplotlib->mplfinance) (1.15.0)\n",
            "Requirement already satisfied: pytz>=2017.3 in /usr/local/lib/python3.7/dist-packages (from pandas->mplfinance) (2018.9)\n",
            "Installing collected packages: mplfinance\n",
            "Successfully installed mplfinance-0.12.8b9\n"
          ]
        }
      ]
    },
    {
      "cell_type": "markdown",
      "metadata": {
        "id": "5K-DOi71YB2W"
      },
      "source": [
        "<h2 id=\"PandasAPI\">Pandas is an API </h2>\n"
      ]
    },
    {
      "cell_type": "markdown",
      "metadata": {
        "id": "2vsJ17xgYB2X"
      },
      "source": [
        "Pandas is actually set of software components , much of  which is not even written in Python.\n"
      ]
    },
    {
      "cell_type": "code",
      "metadata": {
        "jupyter": {
          "outputs_hidden": false
        },
        "id": "KKW2rBP3YB2X"
      },
      "source": [
        "import pandas as pd\n",
        "import numpy as np\n",
        "import plotly.graph_objects as go\n",
        "from plotly.offline import plot\n",
        "import matplotlib.pyplot as plt\n",
        "import datetime\n",
        "from pycoingecko import CoinGeckoAPI\n",
        "from mplfinance.original_flavor import candlestick2_ohlc"
      ],
      "execution_count": 2,
      "outputs": []
    },
    {
      "cell_type": "markdown",
      "metadata": {
        "id": "F9N9xpXOYB2Y"
      },
      "source": [
        "You create a dictionary, this is just data.\n"
      ]
    },
    {
      "cell_type": "code",
      "metadata": {
        "jupyter": {
          "outputs_hidden": false
        },
        "id": "oKUK_VhNYB2Z"
      },
      "source": [
        "dict_={'a':[11,21,31],'b':[12,22,32]}"
      ],
      "execution_count": 3,
      "outputs": []
    },
    {
      "cell_type": "markdown",
      "metadata": {
        "id": "s3Zr134mYB2Z"
      },
      "source": [
        "When you create a Pandas object with the Dataframe constructor in API lingo, this is an \"instance\". The data in the dictionary is passed along to the pandas API. You then use the dataframe to communicate with the API.\n"
      ]
    },
    {
      "cell_type": "code",
      "metadata": {
        "jupyter": {
          "outputs_hidden": false
        },
        "id": "WXnr2kXcYB2a",
        "outputId": "a781e0f9-1f15-40f3-d5e8-be6da08f5aa4",
        "colab": {
          "base_uri": "https://localhost:8080/"
        }
      },
      "source": [
        "df=pd.DataFrame(dict_)\n",
        "type(df)"
      ],
      "execution_count": 4,
      "outputs": [
        {
          "output_type": "execute_result",
          "data": {
            "text/plain": [
              "pandas.core.frame.DataFrame"
            ]
          },
          "metadata": {},
          "execution_count": 4
        }
      ]
    },
    {
      "cell_type": "markdown",
      "metadata": {
        "id": "1WDS5SelYB2b"
      },
      "source": [
        "<img src = \"https://cf-courses-data.s3.us.cloud-object-storage.appdomain.cloud/IBMDeveloperSkillsNetwork-PY0101EN-SkillsNetwork/labs/Module%205/images/pandas_api.png\" width = 800, align = \"center\" alt=\"logistic regression block diagram\" />\n"
      ]
    },
    {
      "cell_type": "markdown",
      "metadata": {
        "id": "llBDiq87YB2b"
      },
      "source": [
        "When you call the method head the dataframe communicates with the API displaying the first few rows of the dataframe.\n"
      ]
    },
    {
      "cell_type": "code",
      "metadata": {
        "jupyter": {
          "outputs_hidden": false
        },
        "id": "Jz65sYcPYB2c",
        "outputId": "2a3f064e-4c67-4204-ffed-0d088673d7ff",
        "colab": {
          "base_uri": "https://localhost:8080/",
          "height": 170
        }
      },
      "source": [
        "df.head()"
      ],
      "execution_count": 5,
      "outputs": [
        {
          "output_type": "execute_result",
          "data": {
            "text/plain": [
              "    a   b\n",
              "0  11  12\n",
              "1  21  22\n",
              "2  31  32"
            ],
            "text/html": [
              "\n",
              "  <div id=\"df-02e50619-b565-4720-b6cd-f05342e8276b\">\n",
              "    <div class=\"colab-df-container\">\n",
              "      <div>\n",
              "<style scoped>\n",
              "    .dataframe tbody tr th:only-of-type {\n",
              "        vertical-align: middle;\n",
              "    }\n",
              "\n",
              "    .dataframe tbody tr th {\n",
              "        vertical-align: top;\n",
              "    }\n",
              "\n",
              "    .dataframe thead th {\n",
              "        text-align: right;\n",
              "    }\n",
              "</style>\n",
              "<table border=\"1\" class=\"dataframe\">\n",
              "  <thead>\n",
              "    <tr style=\"text-align: right;\">\n",
              "      <th></th>\n",
              "      <th>a</th>\n",
              "      <th>b</th>\n",
              "    </tr>\n",
              "  </thead>\n",
              "  <tbody>\n",
              "    <tr>\n",
              "      <th>0</th>\n",
              "      <td>11</td>\n",
              "      <td>12</td>\n",
              "    </tr>\n",
              "    <tr>\n",
              "      <th>1</th>\n",
              "      <td>21</td>\n",
              "      <td>22</td>\n",
              "    </tr>\n",
              "    <tr>\n",
              "      <th>2</th>\n",
              "      <td>31</td>\n",
              "      <td>32</td>\n",
              "    </tr>\n",
              "  </tbody>\n",
              "</table>\n",
              "</div>\n",
              "      <button class=\"colab-df-convert\" onclick=\"convertToInteractive('df-02e50619-b565-4720-b6cd-f05342e8276b')\"\n",
              "              title=\"Convert this dataframe to an interactive table.\"\n",
              "              style=\"display:none;\">\n",
              "        \n",
              "  <svg xmlns=\"http://www.w3.org/2000/svg\" height=\"24px\"viewBox=\"0 0 24 24\"\n",
              "       width=\"24px\">\n",
              "    <path d=\"M0 0h24v24H0V0z\" fill=\"none\"/>\n",
              "    <path d=\"M18.56 5.44l.94 2.06.94-2.06 2.06-.94-2.06-.94-.94-2.06-.94 2.06-2.06.94zm-11 1L8.5 8.5l.94-2.06 2.06-.94-2.06-.94L8.5 2.5l-.94 2.06-2.06.94zm10 10l.94 2.06.94-2.06 2.06-.94-2.06-.94-.94-2.06-.94 2.06-2.06.94z\"/><path d=\"M17.41 7.96l-1.37-1.37c-.4-.4-.92-.59-1.43-.59-.52 0-1.04.2-1.43.59L10.3 9.45l-7.72 7.72c-.78.78-.78 2.05 0 2.83L4 21.41c.39.39.9.59 1.41.59.51 0 1.02-.2 1.41-.59l7.78-7.78 2.81-2.81c.8-.78.8-2.07 0-2.86zM5.41 20L4 18.59l7.72-7.72 1.47 1.35L5.41 20z\"/>\n",
              "  </svg>\n",
              "      </button>\n",
              "      \n",
              "  <style>\n",
              "    .colab-df-container {\n",
              "      display:flex;\n",
              "      flex-wrap:wrap;\n",
              "      gap: 12px;\n",
              "    }\n",
              "\n",
              "    .colab-df-convert {\n",
              "      background-color: #E8F0FE;\n",
              "      border: none;\n",
              "      border-radius: 50%;\n",
              "      cursor: pointer;\n",
              "      display: none;\n",
              "      fill: #1967D2;\n",
              "      height: 32px;\n",
              "      padding: 0 0 0 0;\n",
              "      width: 32px;\n",
              "    }\n",
              "\n",
              "    .colab-df-convert:hover {\n",
              "      background-color: #E2EBFA;\n",
              "      box-shadow: 0px 1px 2px rgba(60, 64, 67, 0.3), 0px 1px 3px 1px rgba(60, 64, 67, 0.15);\n",
              "      fill: #174EA6;\n",
              "    }\n",
              "\n",
              "    [theme=dark] .colab-df-convert {\n",
              "      background-color: #3B4455;\n",
              "      fill: #D2E3FC;\n",
              "    }\n",
              "\n",
              "    [theme=dark] .colab-df-convert:hover {\n",
              "      background-color: #434B5C;\n",
              "      box-shadow: 0px 1px 3px 1px rgba(0, 0, 0, 0.15);\n",
              "      filter: drop-shadow(0px 1px 2px rgba(0, 0, 0, 0.3));\n",
              "      fill: #FFFFFF;\n",
              "    }\n",
              "  </style>\n",
              "\n",
              "      <script>\n",
              "        const buttonEl =\n",
              "          document.querySelector('#df-02e50619-b565-4720-b6cd-f05342e8276b button.colab-df-convert');\n",
              "        buttonEl.style.display =\n",
              "          google.colab.kernel.accessAllowed ? 'block' : 'none';\n",
              "\n",
              "        async function convertToInteractive(key) {\n",
              "          const element = document.querySelector('#df-02e50619-b565-4720-b6cd-f05342e8276b');\n",
              "          const dataTable =\n",
              "            await google.colab.kernel.invokeFunction('convertToInteractive',\n",
              "                                                     [key], {});\n",
              "          if (!dataTable) return;\n",
              "\n",
              "          const docLinkHtml = 'Like what you see? Visit the ' +\n",
              "            '<a target=\"_blank\" href=https://colab.research.google.com/notebooks/data_table.ipynb>data table notebook</a>'\n",
              "            + ' to learn more about interactive tables.';\n",
              "          element.innerHTML = '';\n",
              "          dataTable['output_type'] = 'display_data';\n",
              "          await google.colab.output.renderOutput(dataTable, element);\n",
              "          const docLink = document.createElement('div');\n",
              "          docLink.innerHTML = docLinkHtml;\n",
              "          element.appendChild(docLink);\n",
              "        }\n",
              "      </script>\n",
              "    </div>\n",
              "  </div>\n",
              "  "
            ]
          },
          "metadata": {},
          "execution_count": 5
        }
      ]
    },
    {
      "cell_type": "markdown",
      "metadata": {
        "id": "K2e-WBDhYB2c"
      },
      "source": [
        "When you call the method mean,the API will calculate the mean and return the value.\n"
      ]
    },
    {
      "cell_type": "code",
      "metadata": {
        "jupyter": {
          "outputs_hidden": false
        },
        "id": "QfG3k5jSYB2d",
        "outputId": "c1a92efd-2211-4d7e-c270-0235a1c9f0a2",
        "colab": {
          "base_uri": "https://localhost:8080/"
        }
      },
      "source": [
        "df.mean()"
      ],
      "execution_count": 6,
      "outputs": [
        {
          "output_type": "execute_result",
          "data": {
            "text/plain": [
              "a    21.0\n",
              "b    22.0\n",
              "dtype: float64"
            ]
          },
          "metadata": {},
          "execution_count": 6
        }
      ]
    },
    {
      "cell_type": "markdown",
      "metadata": {
        "id": "nLknS5MJYB2d"
      },
      "source": [
        "<h2 id=\"ref1\">REST APIs</h2>\n"
      ]
    },
    {
      "cell_type": "markdown",
      "metadata": {
        "id": "TzdNqCKHYB2e"
      },
      "source": [
        "Rest API’s function by sending a request,  the request is communicated via HTTP message. The HTTP message usually contains a JSON file. This contains instructions for what operation we would like the service or resource to perform. In a similar manner, API returns a response, via an HTTP message, this response is usually contained within a JSON.\n",
        "\n",
        "In cryptocurrency a popular method to display the movements of the price of a currency.\n",
        "\n",
        "![Example Candlestick Graph](https://cf-courses-data.s3.us.cloud-object-storage.appdomain.cloud/IBMDeveloperSkillsNetwork-PY0101EN-SkillsNetwork/labs/Module%205/candlestick.png)\n",
        "\n",
        "Here is a description of the candle sticks.\n",
        "\n",
        "<img src=\"https://cf-courses-data.s3.us.cloud-object-storage.appdomain.cloud/IBMDeveloperSkillsNetwork-PY0101EN-SkillsNetwork/labs/Module%205/explanation.png\" alt=\"Candle Stick Definition\" width=\"800\" height=\"600\">\n",
        "\n",
        "In this lab, we will be using the <a href=https://www.coingecko.com/en/api>CoinGecko API</a> to create one of these candlestick graphs for Bitcoin. We will use the API to get the price data for 30 days with 24 observation per day, 1 per hour. We will find the max, min, open, and close price per day meaning we will have 30 candlesticks and use that to generate the candlestick graph. Although we are using the CoinGecko API we will use a Python client/wrapper for the API called <a href=https://github.com/man-c/pycoingecko>PyCoinGecko</a>. PyCoinGecko will make performing the requests easy and it will deal with the enpoint targeting.\n"
      ]
    },
    {
      "cell_type": "markdown",
      "metadata": {
        "id": "dRYPy_hQYB2f"
      },
      "source": [
        "Lets start off by getting the data we need. Using the <code>get_coin_market_chart_by_id(id, vs_currency, days)</code>. <code>id</code> is the name of the coin you want, <code>vs_currency</code> is the currency you want the price in, and <code>days</code> is how many days back from today you want.\n"
      ]
    },
    {
      "cell_type": "code",
      "metadata": {
        "id": "N1EY8J9SYB2h"
      },
      "source": [
        "cg = CoinGeckoAPI()\n",
        "\n",
        "bitcoin_data = cg.get_coin_market_chart_by_id(id='bitcoin', vs_currency='usd', days=30)"
      ],
      "execution_count": 7,
      "outputs": []
    },
    {
      "cell_type": "code",
      "metadata": {
        "id": "AriQZTV-YB2i",
        "outputId": "6158f1ef-bb5e-4d6d-98ab-9246123fdb98",
        "colab": {
          "base_uri": "https://localhost:8080/"
        }
      },
      "source": [
        "type(bitcoin_data )"
      ],
      "execution_count": 8,
      "outputs": [
        {
          "output_type": "execute_result",
          "data": {
            "text/plain": [
              "dict"
            ]
          },
          "metadata": {},
          "execution_count": 8
        }
      ]
    },
    {
      "cell_type": "markdown",
      "metadata": {
        "id": "abygD1dkYB2i"
      },
      "source": [
        "The response we get is in the form of a JSON which includes the price, market caps, and total volumes along with timestamps for each observation. We are focused on the prices so we will select that data.\n"
      ]
    },
    {
      "cell_type": "code",
      "metadata": {
        "id": "tJm32PqNYB2j",
        "outputId": "e203beb6-53db-4eda-e6e1-8ca2d1c994e4",
        "colab": {
          "base_uri": "https://localhost:8080/"
        }
      },
      "source": [
        "bitcoin_price_data = bitcoin_data['prices']\n",
        "\n",
        "bitcoin_price_data[0:5]"
      ],
      "execution_count": 9,
      "outputs": [
        {
          "output_type": "execute_result",
          "data": {
            "text/plain": [
              "[[1645549333614, 37708.02331427248],\n",
              " [1645552888030, 37722.24583807338],\n",
              " [1645556556834, 37803.36055948003],\n",
              " [1645560103291, 38151.682093193966],\n",
              " [1645563662172, 37983.70577637663]]"
            ]
          },
          "metadata": {},
          "execution_count": 9
        }
      ]
    },
    {
      "cell_type": "markdown",
      "metadata": {
        "id": "YBcuc7PVYB2j"
      },
      "source": [
        "Finally lets turn this data into a Pandas DataFrame.\n"
      ]
    },
    {
      "cell_type": "code",
      "metadata": {
        "id": "cUu61ef6YB2k"
      },
      "source": [
        "data = pd.DataFrame(bitcoin_price_data, columns=['TimeStamp', 'Price'])"
      ],
      "execution_count": 10,
      "outputs": []
    },
    {
      "cell_type": "markdown",
      "metadata": {
        "id": "kppYOdGtYB2k"
      },
      "source": [
        "Now that we have the DataFrame we will convert the timestamp to datetime and save it as a column called <code>Date</code>. We will map our <code>unix_to_datetime</code> to each timestamp and convert it to a readable datetime.\n"
      ]
    },
    {
      "cell_type": "code",
      "metadata": {
        "id": "UzLkhuV3YB2k"
      },
      "source": [
        "data['Date'] = pd.to_datetime(data['TimeStamp'], unit='ms')"
      ],
      "execution_count": 11,
      "outputs": []
    },
    {
      "cell_type": "markdown",
      "metadata": {
        "id": "JYLqLgzfYB2l"
      },
      "source": [
        "Using this modified dataset we can now group by the <code>Date</code> and find the min, max, open, and close for the candlesticks.\n"
      ]
    },
    {
      "cell_type": "code",
      "metadata": {
        "id": "QfT0exJwYB2l"
      },
      "source": [
        "candlestick_data = data.groupby(data.Date.dt.date, as_index=False).agg({\"Price\": ['min', 'max', 'first', 'last']})"
      ],
      "execution_count": 12,
      "outputs": []
    },
    {
      "cell_type": "markdown",
      "metadata": {
        "id": "tlbyft8hYB2m"
      },
      "source": [
        "Finally we are now ready to use plotly to create our Candlestick Chart.\n"
      ]
    },
    {
      "cell_type": "code",
      "metadata": {
        "id": "6JSoXvwjYB2m",
        "outputId": "7e69d64d-0b3d-46e2-9141-a9a1b1417e5a",
        "colab": {
          "base_uri": "https://localhost:8080/",
          "height": 542
        }
      },
      "source": [
        "fig = go.Figure(data=[go.Candlestick(x=data['Date'],\n",
        "                open=candlestick_data['Price']['first'], \n",
        "                high=candlestick_data['Price']['max'],\n",
        "                low=candlestick_data['Price']['min'], \n",
        "                close=candlestick_data['Price']['last'])\n",
        "                ])\n",
        "\n",
        "fig.update_layout(xaxis_rangeslider_visible=False)\n",
        "\n",
        "fig.show()"
      ],
      "execution_count": 13,
      "outputs": [
        {
          "output_type": "display_data",
          "data": {
            "text/html": [
              "<html>\n",
              "<head><meta charset=\"utf-8\" /></head>\n",
              "<body>\n",
              "    <div>            <script src=\"https://cdnjs.cloudflare.com/ajax/libs/mathjax/2.7.5/MathJax.js?config=TeX-AMS-MML_SVG\"></script><script type=\"text/javascript\">if (window.MathJax) {MathJax.Hub.Config({SVG: {font: \"STIX-Web\"}});}</script>                <script type=\"text/javascript\">window.PlotlyConfig = {MathJaxConfig: 'local'};</script>\n",
              "        <script src=\"https://cdn.plot.ly/plotly-2.8.3.min.js\"></script>                <div id=\"96b4a0ad-3d29-4dfa-bce0-6c03211cf0a1\" class=\"plotly-graph-div\" style=\"height:525px; width:100%;\"></div>            <script type=\"text/javascript\">                                    window.PLOTLYENV=window.PLOTLYENV || {};                                    if (document.getElementById(\"96b4a0ad-3d29-4dfa-bce0-6c03211cf0a1\")) {                    Plotly.newPlot(                        \"96b4a0ad-3d29-4dfa-bce0-6c03211cf0a1\",                        [{\"close\":[37939.20636557496,37710.85420188049,37893.43965898341,39358.54902251939,39233.37380624727,37839.881185697865,43546.662123317365,44215.92876753278,44151.615433052815,42568.913727781146,38971.95496777563,39515.00049382657,39053.32761603085,38171.92522563868,38606.23168566967,41930.29984143982,39478.45524588765,38997.34773968684,39180.18316149835,37951.50103815071,39539.75988759795,39472.0608933335,40921.96974742411,41015.98195142964,41778.15778565683,41959.42109435703,41386.078567869095,41178.32068789192,42540.24263943805,42523.117979144554,43875.4871594102],\"high\":[38151.682093193966,39069.82840245467,38468.39903563178,39439.37704978825,39804.53519937617,39851.01838694968,43546.662123317365,44694.17037709992,44790.13511032929,44023.893996570034,42491.97839335905,39556.923819552416,39608.44670346521,39060.35262308791,39077.070806905955,42438.70954204916,41986.03444607623,39823.05367947227,39234.69000929967,39196.413431782334,39539.75988759795,39669.423812004505,41275.91165086565,41275.738744683644,41919.13889789344,42241.361850445,42201.939920688186,41387.72304546921,42994.7314717725,42649.92622463832,43927.02905591322],\"low\":[37708.02331427248,37583.890059417005,34740.0118751087,38363.345488570165,38886.63463232307,37647.49649734121,37587.93046646924,43142.69094255122,43515.996050621354,42040.71886663501,38971.95496777563,38907.833257994535,38354.33844774822,37387.923708175374,38076.49382252028,38732.93701302586,39017.831410308885,38453.959786611726,38775.17558840679,37951.50103815071,37842.03440281195,38389.02981333102,39088.40018399517,40741.94411289332,40445.755422684284,41632.696509077025,41029.13551845392,40733.51993068625,41061.81589384987,41920.672852785356,42729.049701393305],\"open\":[37708.02331427248,38337.2038554348,37372.2926803477,38363.345488570165,39316.16207578596,39178.51460442859,37788.41695288266,43225.404677435734,44459.59162774341,43980.707382090906,42491.97839335905,39200.29973557414,39465.92350920515,38442.99174588676,38076.49382252028,38732.93701302586,41986.03444607623,39468.35477300189,38775.17558840679,38903.69354800599,37866.51987287414,39669.423812004505,39331.84654059453,41165.63506140341,41001.70957801974,41837.41313797566,42201.939920688186,41249.33316098489,41061.81589384987,42369.9465541391,42844.971614152244],\"x\":[\"2022-02-22T17:02:13.614000\",\"2022-02-22T18:01:28.030000\",\"2022-02-22T19:02:36.834000\",\"2022-02-22T20:01:43.291000\",\"2022-02-22T21:01:02.172000\",\"2022-02-22T22:01:31.584000\",\"2022-02-22T23:00:54.390000\",\"2022-02-23T00:00:50.618000\",\"2022-02-23T01:01:38.699000\",\"2022-02-23T02:01:45.002000\",\"2022-02-23T03:01:34.791000\",\"2022-02-23T04:02:26.248000\",\"2022-02-23T05:00:51.842000\",\"2022-02-23T06:00:14.472000\",\"2022-02-23T07:02:45.684000\",\"2022-02-23T08:00:48.950000\",\"2022-02-23T09:02:07.274000\",\"2022-02-23T10:00:57.215000\",\"2022-02-23T11:00:39.153000\",\"2022-02-23T12:02:24.252000\",\"2022-02-23T13:04:56.947000\",\"2022-02-23T14:01:20.691000\",\"2022-02-23T15:00:38.971000\",\"2022-02-23T16:00:33.943000\",\"2022-02-23T17:00:09.649000\",\"2022-02-23T18:01:37.684000\",\"2022-02-23T19:00:12.121000\",\"2022-02-23T20:03:31.079000\",\"2022-02-23T21:00:35.590000\",\"2022-02-23T22:02:08.152000\",\"2022-02-23T23:01:12.083000\",\"2022-02-24T00:02:46.007000\",\"2022-02-24T01:02:38.658000\",\"2022-02-24T02:01:16.784000\",\"2022-02-24T03:00:14.660000\",\"2022-02-24T04:02:25.772000\",\"2022-02-24T05:01:25.852000\",\"2022-02-24T06:01:50.604000\",\"2022-02-24T07:03:51.246000\",\"2022-02-24T08:01:09.094000\",\"2022-02-24T09:01:46.328000\",\"2022-02-24T10:00:33.888000\",\"2022-02-24T11:02:01.410000\",\"2022-02-24T12:02:25.537000\",\"2022-02-24T13:00:43.114000\",\"2022-02-24T14:02:18.550000\",\"2022-02-24T15:03:12.747000\",\"2022-02-24T16:02:12.589000\",\"2022-02-24T17:00:56.764000\",\"2022-02-24T18:01:46.287000\",\"2022-02-24T19:00:51.260000\",\"2022-02-24T20:03:01.765000\",\"2022-02-24T21:00:46.750000\",\"2022-02-24T22:01:50.961000\",\"2022-02-24T23:02:03.828000\",\"2022-02-25T00:02:14.500000\",\"2022-02-25T01:01:18.878000\",\"2022-02-25T02:02:36.696000\",\"2022-02-25T03:01:02.769000\",\"2022-02-25T04:00:45.474000\",\"2022-02-25T05:00:49.563000\",\"2022-02-25T06:01:55.507000\",\"2022-02-25T07:01:43.494000\",\"2022-02-25T08:00:48.793000\",\"2022-02-25T09:00:56.194000\",\"2022-02-25T10:02:13.736000\",\"2022-02-25T11:00:54.916000\",\"2022-02-25T12:02:32.952000\",\"2022-02-25T13:00:26.592000\",\"2022-02-25T14:01:48.336000\",\"2022-02-25T15:01:34.181000\",\"2022-02-25T16:01:16.616000\",\"2022-02-25T17:01:10.272000\",\"2022-02-25T18:03:01.308000\",\"2022-02-25T19:03:00.544000\",\"2022-02-25T20:01:37.603000\",\"2022-02-25T21:01:16.270000\",\"2022-02-25T22:01:58.009000\",\"2022-02-25T23:01:18.518000\",\"2022-02-26T00:01:00.823000\",\"2022-02-26T01:00:50.522000\",\"2022-02-26T02:01:08.583000\",\"2022-02-26T03:01:59.657000\",\"2022-02-26T04:02:41.513000\",\"2022-02-26T05:02:02.184000\",\"2022-02-26T06:01:47.989000\",\"2022-02-26T07:01:16.026000\",\"2022-02-26T08:00:19.446000\",\"2022-02-26T09:04:47.177000\",\"2022-02-26T10:03:16.610000\",\"2022-02-26T11:02:23.473000\",\"2022-02-26T12:01:35.112000\",\"2022-02-26T13:01:38.841000\",\"2022-02-26T14:02:36.779000\",\"2022-02-26T15:00:37.779000\",\"2022-02-26T16:01:34.565000\",\"2022-02-26T17:01:41.643000\",\"2022-02-26T18:02:37.423000\",\"2022-02-26T19:02:17.395000\",\"2022-02-26T20:02:24.789000\",\"2022-02-26T21:02:12.353000\",\"2022-02-26T22:00:29.035000\",\"2022-02-26T23:01:38.041000\",\"2022-02-27T00:02:42.926000\",\"2022-02-27T01:01:36.390000\",\"2022-02-27T02:02:38.562000\",\"2022-02-27T03:01:47.028000\",\"2022-02-27T04:01:55.358000\",\"2022-02-27T05:00:10.646000\",\"2022-02-27T06:01:06.140000\",\"2022-02-27T07:01:46.141000\",\"2022-02-27T08:02:09.933000\",\"2022-02-27T09:00:32.955000\",\"2022-02-27T10:01:09.602000\",\"2022-02-27T11:00:52.612000\",\"2022-02-27T12:02:01.598000\",\"2022-02-27T13:01:24.735000\",\"2022-02-27T14:02:05.121000\",\"2022-02-27T15:00:07.420000\",\"2022-02-27T16:05:21.610000\",\"2022-02-27T17:01:28.938000\",\"2022-02-27T18:02:03.417000\",\"2022-02-27T19:00:27.796000\",\"2022-02-27T20:01:30.465000\",\"2022-02-27T21:00:15.628000\",\"2022-02-27T22:01:24.966000\",\"2022-02-27T23:01:03.168000\",\"2022-02-28T00:01:04.405000\",\"2022-02-28T01:00:26.661000\",\"2022-02-28T02:00:52.179000\",\"2022-02-28T03:02:01.006000\",\"2022-02-28T04:02:06.891000\",\"2022-02-28T05:02:22.382000\",\"2022-02-28T06:01:43.699000\",\"2022-02-28T06:05:18.588000\",\"2022-02-28T07:01:54.041000\",\"2022-02-28T08:01:20.622000\",\"2022-02-28T09:01:47.805000\",\"2022-02-28T10:01:57.285000\",\"2022-02-28T11:02:20.895000\",\"2022-02-28T12:00:30.122000\",\"2022-02-28T13:02:52.958000\",\"2022-02-28T14:01:41.816000\",\"2022-02-28T15:02:23.304000\",\"2022-02-28T16:01:39.794000\",\"2022-02-28T17:01:15.236000\",\"2022-02-28T18:00:10.770000\",\"2022-02-28T19:01:45.411000\",\"2022-02-28T20:02:18.642000\",\"2022-02-28T21:01:10.175000\",\"2022-02-28T22:02:26.788000\",\"2022-02-28T23:00:08.393000\",\"2022-03-01T00:02:03.215000\",\"2022-03-01T01:00:39.142000\",\"2022-03-01T02:00:20.547000\",\"2022-03-01T03:00:48.687000\",\"2022-03-01T04:01:51.179000\",\"2022-03-01T05:01:30.948000\",\"2022-03-01T06:01:24.281000\",\"2022-03-01T07:02:08.380000\",\"2022-03-01T08:01:34.382000\",\"2022-03-01T09:00:39.651000\",\"2022-03-01T10:00:26.422000\",\"2022-03-01T11:02:25.887000\",\"2022-03-01T12:00:30.382000\",\"2022-03-01T13:03:36.805000\",\"2022-03-01T14:00:40.807000\",\"2022-03-01T15:02:17.580000\",\"2022-03-01T16:02:08.067000\",\"2022-03-01T17:01:54.436000\",\"2022-03-01T18:02:39.653000\",\"2022-03-01T19:01:28.419000\",\"2022-03-01T20:01:20.762000\",\"2022-03-01T21:00:37.768000\",\"2022-03-01T22:01:44.212000\",\"2022-03-01T23:01:17.710000\",\"2022-03-02T00:01:00.859000\",\"2022-03-02T01:01:12.798000\",\"2022-03-02T02:02:20.292000\",\"2022-03-02T03:02:25.765000\",\"2022-03-02T04:04:21.078000\",\"2022-03-02T05:00:27.522000\",\"2022-03-02T06:01:05.084000\",\"2022-03-02T07:01:54.817000\",\"2022-03-02T08:00:34.125000\",\"2022-03-02T09:13:34.990000\",\"2022-03-02T10:00:12.197000\",\"2022-03-02T11:00:55.986000\",\"2022-03-02T12:02:11.985000\",\"2022-03-02T12:05:16.905000\",\"2022-03-02T13:01:08.998000\",\"2022-03-02T14:02:13.388000\",\"2022-03-02T15:00:58.608000\",\"2022-03-02T16:01:49.896000\",\"2022-03-02T17:02:05.328000\",\"2022-03-02T18:00:29.465000\",\"2022-03-02T19:01:39.235000\",\"2022-03-02T20:01:04.457000\",\"2022-03-02T21:01:21.283000\",\"2022-03-02T22:00:24.674000\",\"2022-03-02T23:02:18.038000\",\"2022-03-03T00:02:14.175000\",\"2022-03-03T01:00:57.397000\",\"2022-03-03T02:00:50.515000\",\"2022-03-03T03:02:30.862000\",\"2022-03-03T04:00:45.965000\",\"2022-03-03T05:02:04.501000\",\"2022-03-03T06:02:10.265000\",\"2022-03-03T07:00:55.484000\",\"2022-03-03T08:02:01.860000\",\"2022-03-03T09:05:37.435000\",\"2022-03-03T10:01:55.327000\",\"2022-03-03T11:02:20.320000\",\"2022-03-03T12:02:58.833000\",\"2022-03-03T13:00:11.326000\",\"2022-03-03T14:01:26.171000\",\"2022-03-03T15:01:05.346000\",\"2022-03-03T16:02:12.742000\",\"2022-03-03T17:03:59.526000\",\"2022-03-03T18:02:15.719000\",\"2022-03-03T19:02:44.092000\",\"2022-03-03T20:02:18.926000\",\"2022-03-03T21:01:57.475000\",\"2022-03-03T22:01:02.645000\",\"2022-03-03T23:02:02.277000\",\"2022-03-04T00:00:23.660000\",\"2022-03-04T01:01:32.075000\",\"2022-03-04T02:01:52.694000\",\"2022-03-04T03:01:36.849000\",\"2022-03-04T04:02:40.966000\",\"2022-03-04T05:02:26.674000\",\"2022-03-04T06:02:25.657000\",\"2022-03-04T07:03:00.075000\",\"2022-03-04T08:02:57.807000\",\"2022-03-04T09:08:59.124000\",\"2022-03-04T10:02:28.513000\",\"2022-03-04T11:02:38.907000\",\"2022-03-04T12:01:32.755000\",\"2022-03-04T13:00:27.331000\",\"2022-03-04T14:00:31.905000\",\"2022-03-04T15:02:27.050000\",\"2022-03-04T16:02:29.328000\",\"2022-03-04T17:01:40.219000\",\"2022-03-04T18:01:22.670000\",\"2022-03-04T19:02:53.417000\",\"2022-03-04T20:02:56.063000\",\"2022-03-04T21:00:17.918000\",\"2022-03-04T22:02:34.790000\",\"2022-03-04T23:02:08.957000\",\"2022-03-05T00:00:15.790000\",\"2022-03-05T01:00:16.086000\",\"2022-03-05T02:02:17.934000\",\"2022-03-05T03:03:07.691000\",\"2022-03-05T04:00:35.308000\",\"2022-03-05T05:01:05.007000\",\"2022-03-05T06:02:02.022000\",\"2022-03-05T07:00:28.377000\",\"2022-03-05T08:01:21.757000\",\"2022-03-05T09:04:08.032000\",\"2022-03-05T10:01:01.071000\",\"2022-03-05T11:01:25.260000\",\"2022-03-05T12:01:22.282000\",\"2022-03-05T13:00:45.032000\",\"2022-03-05T14:02:50.339000\",\"2022-03-05T15:03:12.407000\",\"2022-03-05T16:00:36.207000\",\"2022-03-05T17:00:04.082000\",\"2022-03-05T18:00:30.197000\",\"2022-03-05T19:03:13.301000\",\"2022-03-05T20:00:12.036000\",\"2022-03-05T21:02:00.239000\",\"2022-03-05T22:02:00.686000\",\"2022-03-05T23:02:00.617000\",\"2022-03-06T00:01:01.617000\",\"2022-03-06T01:01:16.884000\",\"2022-03-06T02:02:16.922000\",\"2022-03-06T03:02:13.970000\",\"2022-03-06T04:01:43.969000\",\"2022-03-06T05:00:31.354000\",\"2022-03-06T06:01:02.878000\",\"2022-03-06T07:02:12.988000\",\"2022-03-06T08:01:25.796000\",\"2022-03-06T09:09:23.569000\",\"2022-03-06T10:01:43.438000\",\"2022-03-06T11:01:45.172000\",\"2022-03-06T12:01:32.083000\",\"2022-03-06T13:01:57.046000\",\"2022-03-06T14:02:00.614000\",\"2022-03-06T15:02:23.027000\",\"2022-03-06T16:01:34.095000\",\"2022-03-06T17:01:50.206000\",\"2022-03-06T18:02:00.361000\",\"2022-03-06T19:02:34.766000\",\"2022-03-06T20:01:02.395000\",\"2022-03-06T21:00:09.778000\",\"2022-03-06T22:01:14.482000\",\"2022-03-06T23:01:59.226000\",\"2022-03-07T00:00:12.998000\",\"2022-03-07T01:01:49.472000\",\"2022-03-07T02:00:35.676000\",\"2022-03-07T03:00:14.337000\",\"2022-03-07T04:00:45.153000\",\"2022-03-07T05:02:13.249000\",\"2022-03-07T06:00:53.520000\",\"2022-03-07T07:00:38.509000\",\"2022-03-07T08:02:04.376000\",\"2022-03-07T09:00:47.610000\",\"2022-03-07T10:01:47.020000\",\"2022-03-07T11:01:40.997000\",\"2022-03-07T12:02:44.531000\",\"2022-03-07T13:01:44.124000\",\"2022-03-07T14:02:10.828000\",\"2022-03-07T15:01:39.845000\",\"2022-03-07T16:01:54.791000\",\"2022-03-07T17:02:26.850000\",\"2022-03-07T18:01:28.515000\",\"2022-03-07T19:01:30.076000\",\"2022-03-07T20:03:57.164000\",\"2022-03-07T21:02:45.915000\",\"2022-03-07T22:01:58.626000\",\"2022-03-07T23:01:52.125000\",\"2022-03-08T00:01:41.342000\",\"2022-03-08T01:02:00.084000\",\"2022-03-08T02:01:45.547000\",\"2022-03-08T03:03:10.329000\",\"2022-03-08T04:01:42.644000\",\"2022-03-08T05:01:55.593000\",\"2022-03-08T06:02:19.430000\",\"2022-03-08T07:01:45.422000\",\"2022-03-08T08:00:38.405000\",\"2022-03-08T09:00:25.692000\",\"2022-03-08T10:00:54.985000\",\"2022-03-08T11:01:44.332000\",\"2022-03-08T12:01:51.954000\",\"2022-03-08T13:01:45.012000\",\"2022-03-08T14:00:52.620000\",\"2022-03-08T15:02:18.083000\",\"2022-03-08T16:01:35.145000\",\"2022-03-08T17:01:31.774000\",\"2022-03-08T18:01:36.497000\",\"2022-03-08T19:01:38.795000\",\"2022-03-08T20:02:34.915000\",\"2022-03-08T21:01:55.221000\",\"2022-03-08T22:00:47.886000\",\"2022-03-08T23:00:15.879000\",\"2022-03-09T00:01:46.933000\",\"2022-03-09T01:00:28.918000\",\"2022-03-09T02:02:57.224000\",\"2022-03-09T03:01:43.231000\",\"2022-03-09T04:01:22.456000\",\"2022-03-09T05:01:10.351000\",\"2022-03-09T06:02:39.786000\",\"2022-03-09T07:00:48.337000\",\"2022-03-09T08:00:32.684000\",\"2022-03-09T09:01:39.371000\",\"2022-03-09T10:02:34.103000\",\"2022-03-09T11:02:16.163000\",\"2022-03-09T12:01:35.300000\",\"2022-03-09T13:01:10.179000\",\"2022-03-09T14:02:50.683000\",\"2022-03-09T15:01:46.607000\",\"2022-03-09T16:00:22.167000\",\"2022-03-09T17:02:19.555000\",\"2022-03-09T18:02:20.470000\",\"2022-03-09T19:01:32.716000\",\"2022-03-09T20:01:12.337000\",\"2022-03-09T21:00:42.024000\",\"2022-03-09T22:02:34.394000\",\"2022-03-09T23:02:48.201000\",\"2022-03-10T00:01:47.311000\",\"2022-03-10T01:01:41.463000\",\"2022-03-10T02:01:15.540000\",\"2022-03-10T03:02:40.955000\",\"2022-03-10T04:02:33.839000\",\"2022-03-10T05:01:27.378000\",\"2022-03-10T06:00:11.273000\",\"2022-03-10T07:03:02.782000\",\"2022-03-10T08:00:21.834000\",\"2022-03-10T09:02:42.904000\",\"2022-03-10T10:01:42.914000\",\"2022-03-10T11:01:29.632000\",\"2022-03-10T12:00:24.945000\",\"2022-03-10T13:03:04.164000\",\"2022-03-10T14:02:04.926000\",\"2022-03-10T15:01:26.408000\",\"2022-03-10T16:01:47.441000\",\"2022-03-10T17:00:07.227000\",\"2022-03-10T18:01:10.924000\",\"2022-03-10T19:01:31.242000\",\"2022-03-10T20:01:30.470000\",\"2022-03-10T21:02:09.055000\",\"2022-03-10T22:01:38.530000\",\"2022-03-10T23:03:05.441000\",\"2022-03-11T00:02:10.713000\",\"2022-03-11T01:01:45.596000\",\"2022-03-11T02:02:51.675000\",\"2022-03-11T03:01:35.043000\",\"2022-03-11T04:02:36.206000\",\"2022-03-11T05:00:31.417000\",\"2022-03-11T06:02:29.613000\",\"2022-03-11T07:01:36.987000\",\"2022-03-11T08:01:29.040000\",\"2022-03-11T09:02:42.329000\",\"2022-03-11T10:00:32.971000\",\"2022-03-11T10:03:57.950000\",\"2022-03-11T11:01:55.884000\",\"2022-03-11T12:02:47.783000\",\"2022-03-11T13:02:09.702000\",\"2022-03-11T14:00:25.964000\",\"2022-03-11T15:02:33.336000\",\"2022-03-11T16:00:17.817000\",\"2022-03-11T17:01:44.589000\",\"2022-03-11T18:02:04.051000\",\"2022-03-11T19:01:01.563000\",\"2022-03-11T20:02:44.033000\",\"2022-03-11T21:01:39.024000\",\"2022-03-11T22:02:59.377000\",\"2022-03-11T23:01:33.020000\",\"2022-03-12T00:01:17.748000\",\"2022-03-12T01:02:32.461000\",\"2022-03-12T02:01:59.240000\",\"2022-03-12T03:01:26.931000\",\"2022-03-12T04:02:27.539000\",\"2022-03-12T05:01:56.701000\",\"2022-03-12T06:02:07.528000\",\"2022-03-12T07:02:45.129000\",\"2022-03-12T08:02:19.788000\",\"2022-03-12T09:00:56.316000\",\"2022-03-12T10:02:20.874000\",\"2022-03-12T11:03:16.444000\",\"2022-03-12T12:02:57.394000\",\"2022-03-12T13:03:12.013000\",\"2022-03-12T14:00:56.903000\",\"2022-03-12T15:00:03.174000\",\"2022-03-12T16:02:02.448000\",\"2022-03-12T17:01:45.822000\",\"2022-03-12T18:02:24.171000\",\"2022-03-12T19:00:23.313000\",\"2022-03-12T20:01:51.321000\",\"2022-03-12T21:01:48.449000\",\"2022-03-12T22:01:02.586000\",\"2022-03-12T23:02:49.109000\",\"2022-03-13T00:01:54.254000\",\"2022-03-13T01:00:06.950000\",\"2022-03-13T02:01:28.510000\",\"2022-03-13T03:01:42.748000\",\"2022-03-13T04:00:13.100000\",\"2022-03-13T05:01:28.410000\",\"2022-03-13T06:00:08.988000\",\"2022-03-13T07:02:08.948000\",\"2022-03-13T08:02:14.425000\",\"2022-03-13T09:04:06.950000\",\"2022-03-13T10:00:17.836000\",\"2022-03-13T11:01:18.078000\",\"2022-03-13T12:00:39.477000\",\"2022-03-13T13:00:53.198000\",\"2022-03-13T14:01:39.330000\",\"2022-03-13T15:03:16.558000\",\"2022-03-13T16:01:04.810000\",\"2022-03-13T17:00:42.843000\",\"2022-03-13T18:01:10\",\"2022-03-13T19:01:34.249000\",\"2022-03-13T20:00:40.078000\",\"2022-03-13T21:02:03.692000\",\"2022-03-13T22:01:40.186000\",\"2022-03-13T23:01:36.863000\",\"2022-03-14T00:02:56.891000\",\"2022-03-14T01:02:27.382000\",\"2022-03-14T02:02:13.021000\",\"2022-03-14T03:01:49.428000\",\"2022-03-14T04:02:42.041000\",\"2022-03-14T05:00:34.116000\",\"2022-03-14T06:02:30.929000\",\"2022-03-14T07:00:17.126000\",\"2022-03-14T08:02:57.667000\",\"2022-03-14T09:02:26.160000\",\"2022-03-14T10:01:50.372000\",\"2022-03-14T11:02:05.139000\",\"2022-03-14T12:00:26.954000\",\"2022-03-14T13:03:14.028000\",\"2022-03-14T14:01:11.156000\",\"2022-03-14T15:02:59.128000\",\"2022-03-14T16:02:11.704000\",\"2022-03-14T17:00:02.455000\",\"2022-03-14T18:01:47.477000\",\"2022-03-14T19:01:13.077000\",\"2022-03-14T20:03:15.382000\",\"2022-03-14T21:02:16.253000\",\"2022-03-14T22:02:40.202000\",\"2022-03-14T23:01:57.241000\",\"2022-03-15T00:02:57.062000\",\"2022-03-15T01:01:22.944000\",\"2022-03-15T02:03:57.658000\",\"2022-03-15T03:02:18.823000\",\"2022-03-15T04:03:04.790000\",\"2022-03-15T05:02:18.152000\",\"2022-03-15T06:01:36.590000\",\"2022-03-15T07:01:29.087000\",\"2022-03-15T08:01:55.966000\",\"2022-03-15T09:01:29.757000\",\"2022-03-15T10:02:31.397000\",\"2022-03-15T11:01:18.975000\",\"2022-03-15T12:01:06.664000\",\"2022-03-15T13:02:04.622000\",\"2022-03-15T14:02:47.502000\",\"2022-03-15T15:01:27.680000\",\"2022-03-15T16:03:24.728000\",\"2022-03-15T17:03:20.362000\",\"2022-03-15T18:03:09.663000\",\"2022-03-15T19:01:44.985000\",\"2022-03-15T20:03:18.036000\",\"2022-03-15T21:01:42.855000\",\"2022-03-15T22:01:51.210000\",\"2022-03-15T23:02:41.708000\",\"2022-03-16T00:01:37.865000\",\"2022-03-16T01:02:07.681000\",\"2022-03-16T02:01:56.247000\",\"2022-03-16T03:00:22.777000\",\"2022-03-16T04:00:48.107000\",\"2022-03-16T05:01:15.625000\",\"2022-03-16T06:03:33.119000\",\"2022-03-16T07:03:44.249000\",\"2022-03-16T08:01:54.906000\",\"2022-03-16T09:00:41.933000\",\"2022-03-16T10:01:25.899000\",\"2022-03-16T11:00:32.804000\",\"2022-03-16T12:02:39.548000\",\"2022-03-16T13:01:49.838000\",\"2022-03-16T14:01:46.147000\",\"2022-03-16T15:00:57.779000\",\"2022-03-16T16:01:19.286000\",\"2022-03-16T17:03:38.819000\",\"2022-03-16T18:00:14.783000\",\"2022-03-16T19:01:55.064000\",\"2022-03-16T20:02:04.646000\",\"2022-03-16T21:00:50.930000\",\"2022-03-16T22:03:01.149000\",\"2022-03-16T23:00:34.798000\",\"2022-03-17T00:01:30.197000\",\"2022-03-17T01:01:09.866000\",\"2022-03-17T02:01:06.301000\",\"2022-03-17T03:00:45.958000\",\"2022-03-17T04:02:35.367000\",\"2022-03-17T05:02:02.308000\",\"2022-03-17T06:01:46.299000\",\"2022-03-17T07:01:48.302000\",\"2022-03-17T08:01:21.455000\",\"2022-03-17T09:00:12.158000\",\"2022-03-17T10:01:04.490000\",\"2022-03-17T11:02:31.529000\",\"2022-03-17T12:02:48.999000\",\"2022-03-17T13:01:43.171000\",\"2022-03-17T14:01:53.487000\",\"2022-03-17T15:01:17.106000\",\"2022-03-17T16:01:54.428000\",\"2022-03-17T17:03:00.666000\",\"2022-03-17T18:01:35.094000\",\"2022-03-17T19:03:46.176000\",\"2022-03-17T20:01:39.478000\",\"2022-03-17T21:01:11.330000\",\"2022-03-17T22:02:44.215000\",\"2022-03-17T23:02:02\",\"2022-03-18T00:01:23.084000\",\"2022-03-18T01:01:30.285000\",\"2022-03-18T02:02:57.381000\",\"2022-03-18T03:01:34.333000\",\"2022-03-18T04:01:34.231000\",\"2022-03-18T05:01:34.666000\",\"2022-03-18T06:01:56.268000\",\"2022-03-18T07:00:05.154000\",\"2022-03-18T08:03:00.140000\",\"2022-03-18T09:07:03.396000\",\"2022-03-18T10:01:59.589000\",\"2022-03-18T11:02:02.208000\",\"2022-03-18T12:02:09.244000\",\"2022-03-18T13:00:14.040000\",\"2022-03-18T14:02:43.056000\",\"2022-03-18T15:03:01.825000\",\"2022-03-18T16:02:04.476000\",\"2022-03-18T17:00:30.213000\",\"2022-03-18T18:02:45.556000\",\"2022-03-18T19:02:12.071000\",\"2022-03-18T20:03:01.629000\",\"2022-03-18T21:01:16.591000\",\"2022-03-18T22:02:22.585000\",\"2022-03-18T23:02:51.933000\",\"2022-03-19T00:01:38.966000\",\"2022-03-19T01:01:52.839000\",\"2022-03-19T02:02:40.801000\",\"2022-03-19T03:02:52.919000\",\"2022-03-19T04:01:51.908000\",\"2022-03-19T05:03:08.039000\",\"2022-03-19T06:01:47.124000\",\"2022-03-19T07:01:36.245000\",\"2022-03-19T08:02:07.135000\",\"2022-03-19T09:05:44.762000\",\"2022-03-19T10:02:36.348000\",\"2022-03-19T11:02:59.539000\",\"2022-03-19T12:01:52.216000\",\"2022-03-19T13:02:24.533000\",\"2022-03-19T14:00:31.167000\",\"2022-03-19T15:02:36.740000\",\"2022-03-19T16:02:06.151000\",\"2022-03-19T17:01:56.947000\",\"2022-03-19T18:03:21.989000\",\"2022-03-19T19:00:51.709000\",\"2022-03-19T20:02:27.327000\",\"2022-03-19T21:01:09.895000\",\"2022-03-19T22:01:08.865000\",\"2022-03-19T23:02:37.793000\",\"2022-03-20T00:01:14.736000\",\"2022-03-20T01:00:40.560000\",\"2022-03-20T02:02:18.978000\",\"2022-03-20T03:03:37.682000\",\"2022-03-20T04:04:13.887000\",\"2022-03-20T05:03:51.223000\",\"2022-03-20T06:03:26.908000\",\"2022-03-20T07:02:25.388000\",\"2022-03-20T08:01:43.937000\",\"2022-03-20T09:02:41.742000\",\"2022-03-20T10:03:41.441000\",\"2022-03-20T11:01:53.510000\",\"2022-03-20T12:03:18.563000\",\"2022-03-20T13:01:49.267000\",\"2022-03-20T14:03:24.775000\",\"2022-03-20T15:02:04.572000\",\"2022-03-20T16:02:05.474000\",\"2022-03-20T17:01:54.146000\",\"2022-03-20T18:01:51.743000\",\"2022-03-20T19:01:57.544000\",\"2022-03-20T20:02:53.447000\",\"2022-03-20T21:00:43.919000\",\"2022-03-20T22:01:57.902000\",\"2022-03-20T23:00:19.689000\",\"2022-03-21T00:03:00.750000\",\"2022-03-21T01:01:59.062000\",\"2022-03-21T02:00:20.475000\",\"2022-03-21T03:02:14.387000\",\"2022-03-21T04:03:07.173000\",\"2022-03-21T05:02:27.569000\",\"2022-03-21T06:02:30.440000\",\"2022-03-21T07:01:03.747000\",\"2022-03-21T08:03:10.107000\",\"2022-03-21T09:02:44.074000\",\"2022-03-21T10:03:10.164000\",\"2022-03-21T11:00:54.032000\",\"2022-03-21T12:03:34.475000\",\"2022-03-21T13:01:28.211000\",\"2022-03-21T14:03:05.288000\",\"2022-03-21T15:02:39.601000\",\"2022-03-21T16:01:15.276000\",\"2022-03-21T17:02:06.691000\",\"2022-03-21T18:03:12.959000\",\"2022-03-21T19:00:50.973000\",\"2022-03-21T20:00:37.455000\",\"2022-03-21T21:02:50.377000\",\"2022-03-21T22:01:31.986000\",\"2022-03-21T23:01:37.596000\",\"2022-03-22T00:03:11.633000\",\"2022-03-22T01:00:48.809000\",\"2022-03-22T02:01:49.988000\",\"2022-03-22T03:01:27.925000\",\"2022-03-22T04:01:03.058000\",\"2022-03-22T05:00:38.492000\",\"2022-03-22T06:02:57.029000\",\"2022-03-22T07:03:32.407000\",\"2022-03-22T08:02:51.156000\",\"2022-03-22T09:12:24.213000\",\"2022-03-22T10:01:42.650000\",\"2022-03-22T11:02:09.405000\",\"2022-03-22T12:01:48.064000\",\"2022-03-22T13:02:07.752000\",\"2022-03-22T14:00:33.266000\",\"2022-03-22T15:01:51.271000\",\"2022-03-22T16:01:06.038000\",\"2022-03-22T17:02:24.679000\",\"2022-03-22T18:03:03.915000\",\"2022-03-22T19:01:54.119000\",\"2022-03-22T20:02:33.557000\",\"2022-03-22T21:01:07.373000\",\"2022-03-22T22:01:13.533000\",\"2022-03-22T23:01:40.370000\",\"2022-03-23T00:02:41.635000\",\"2022-03-23T01:01:54.493000\",\"2022-03-23T02:02:18.014000\",\"2022-03-23T03:02:18.952000\",\"2022-03-23T04:04:01.293000\",\"2022-03-23T05:02:03.674000\",\"2022-03-23T06:01:28.147000\",\"2022-03-23T07:00:53.299000\",\"2022-03-23T08:03:14.136000\",\"2022-03-23T09:03:09.898000\",\"2022-03-23T10:01:09.141000\",\"2022-03-23T11:04:00.431000\",\"2022-03-23T12:00:43.518000\",\"2022-03-23T13:00:42.434000\",\"2022-03-23T14:02:19.399000\",\"2022-03-23T15:04:21.682000\",\"2022-03-23T16:03:06.829000\",\"2022-03-23T17:01:45.172000\",\"2022-03-23T18:03:58.449000\",\"2022-03-23T19:02:59.542000\",\"2022-03-23T20:04:04.756000\",\"2022-03-23T21:01:15.246000\",\"2022-03-23T22:01:00.188000\",\"2022-03-23T23:01:35.355000\",\"2022-03-24T00:02:02.053000\",\"2022-03-24T01:00:10.680000\",\"2022-03-24T02:01:07.198000\",\"2022-03-24T03:01:42.905000\",\"2022-03-24T04:02:29.913000\",\"2022-03-24T05:02:07.162000\",\"2022-03-24T06:02:36.247000\",\"2022-03-24T07:01:43.542000\",\"2022-03-24T08:02:11.187000\",\"2022-03-24T09:04:53.365000\",\"2022-03-24T10:01:49.998000\",\"2022-03-24T11:02:29.963000\",\"2022-03-24T12:01:43.617000\",\"2022-03-24T13:04:23.830000\",\"2022-03-24T14:01:07.659000\",\"2022-03-24T15:02:35.469000\",\"2022-03-24T16:01:25.511000\",\"2022-03-24T16:13:38\"],\"type\":\"candlestick\"}],                        {\"template\":{\"data\":{\"bar\":[{\"error_x\":{\"color\":\"#2a3f5f\"},\"error_y\":{\"color\":\"#2a3f5f\"},\"marker\":{\"line\":{\"color\":\"#E5ECF6\",\"width\":0.5},\"pattern\":{\"fillmode\":\"overlay\",\"size\":10,\"solidity\":0.2}},\"type\":\"bar\"}],\"barpolar\":[{\"marker\":{\"line\":{\"color\":\"#E5ECF6\",\"width\":0.5},\"pattern\":{\"fillmode\":\"overlay\",\"size\":10,\"solidity\":0.2}},\"type\":\"barpolar\"}],\"carpet\":[{\"aaxis\":{\"endlinecolor\":\"#2a3f5f\",\"gridcolor\":\"white\",\"linecolor\":\"white\",\"minorgridcolor\":\"white\",\"startlinecolor\":\"#2a3f5f\"},\"baxis\":{\"endlinecolor\":\"#2a3f5f\",\"gridcolor\":\"white\",\"linecolor\":\"white\",\"minorgridcolor\":\"white\",\"startlinecolor\":\"#2a3f5f\"},\"type\":\"carpet\"}],\"choropleth\":[{\"colorbar\":{\"outlinewidth\":0,\"ticks\":\"\"},\"type\":\"choropleth\"}],\"contour\":[{\"colorbar\":{\"outlinewidth\":0,\"ticks\":\"\"},\"colorscale\":[[0.0,\"#0d0887\"],[0.1111111111111111,\"#46039f\"],[0.2222222222222222,\"#7201a8\"],[0.3333333333333333,\"#9c179e\"],[0.4444444444444444,\"#bd3786\"],[0.5555555555555556,\"#d8576b\"],[0.6666666666666666,\"#ed7953\"],[0.7777777777777778,\"#fb9f3a\"],[0.8888888888888888,\"#fdca26\"],[1.0,\"#f0f921\"]],\"type\":\"contour\"}],\"contourcarpet\":[{\"colorbar\":{\"outlinewidth\":0,\"ticks\":\"\"},\"type\":\"contourcarpet\"}],\"heatmap\":[{\"colorbar\":{\"outlinewidth\":0,\"ticks\":\"\"},\"colorscale\":[[0.0,\"#0d0887\"],[0.1111111111111111,\"#46039f\"],[0.2222222222222222,\"#7201a8\"],[0.3333333333333333,\"#9c179e\"],[0.4444444444444444,\"#bd3786\"],[0.5555555555555556,\"#d8576b\"],[0.6666666666666666,\"#ed7953\"],[0.7777777777777778,\"#fb9f3a\"],[0.8888888888888888,\"#fdca26\"],[1.0,\"#f0f921\"]],\"type\":\"heatmap\"}],\"heatmapgl\":[{\"colorbar\":{\"outlinewidth\":0,\"ticks\":\"\"},\"colorscale\":[[0.0,\"#0d0887\"],[0.1111111111111111,\"#46039f\"],[0.2222222222222222,\"#7201a8\"],[0.3333333333333333,\"#9c179e\"],[0.4444444444444444,\"#bd3786\"],[0.5555555555555556,\"#d8576b\"],[0.6666666666666666,\"#ed7953\"],[0.7777777777777778,\"#fb9f3a\"],[0.8888888888888888,\"#fdca26\"],[1.0,\"#f0f921\"]],\"type\":\"heatmapgl\"}],\"histogram\":[{\"marker\":{\"pattern\":{\"fillmode\":\"overlay\",\"size\":10,\"solidity\":0.2}},\"type\":\"histogram\"}],\"histogram2d\":[{\"colorbar\":{\"outlinewidth\":0,\"ticks\":\"\"},\"colorscale\":[[0.0,\"#0d0887\"],[0.1111111111111111,\"#46039f\"],[0.2222222222222222,\"#7201a8\"],[0.3333333333333333,\"#9c179e\"],[0.4444444444444444,\"#bd3786\"],[0.5555555555555556,\"#d8576b\"],[0.6666666666666666,\"#ed7953\"],[0.7777777777777778,\"#fb9f3a\"],[0.8888888888888888,\"#fdca26\"],[1.0,\"#f0f921\"]],\"type\":\"histogram2d\"}],\"histogram2dcontour\":[{\"colorbar\":{\"outlinewidth\":0,\"ticks\":\"\"},\"colorscale\":[[0.0,\"#0d0887\"],[0.1111111111111111,\"#46039f\"],[0.2222222222222222,\"#7201a8\"],[0.3333333333333333,\"#9c179e\"],[0.4444444444444444,\"#bd3786\"],[0.5555555555555556,\"#d8576b\"],[0.6666666666666666,\"#ed7953\"],[0.7777777777777778,\"#fb9f3a\"],[0.8888888888888888,\"#fdca26\"],[1.0,\"#f0f921\"]],\"type\":\"histogram2dcontour\"}],\"mesh3d\":[{\"colorbar\":{\"outlinewidth\":0,\"ticks\":\"\"},\"type\":\"mesh3d\"}],\"parcoords\":[{\"line\":{\"colorbar\":{\"outlinewidth\":0,\"ticks\":\"\"}},\"type\":\"parcoords\"}],\"pie\":[{\"automargin\":true,\"type\":\"pie\"}],\"scatter\":[{\"marker\":{\"colorbar\":{\"outlinewidth\":0,\"ticks\":\"\"}},\"type\":\"scatter\"}],\"scatter3d\":[{\"line\":{\"colorbar\":{\"outlinewidth\":0,\"ticks\":\"\"}},\"marker\":{\"colorbar\":{\"outlinewidth\":0,\"ticks\":\"\"}},\"type\":\"scatter3d\"}],\"scattercarpet\":[{\"marker\":{\"colorbar\":{\"outlinewidth\":0,\"ticks\":\"\"}},\"type\":\"scattercarpet\"}],\"scattergeo\":[{\"marker\":{\"colorbar\":{\"outlinewidth\":0,\"ticks\":\"\"}},\"type\":\"scattergeo\"}],\"scattergl\":[{\"marker\":{\"colorbar\":{\"outlinewidth\":0,\"ticks\":\"\"}},\"type\":\"scattergl\"}],\"scattermapbox\":[{\"marker\":{\"colorbar\":{\"outlinewidth\":0,\"ticks\":\"\"}},\"type\":\"scattermapbox\"}],\"scatterpolar\":[{\"marker\":{\"colorbar\":{\"outlinewidth\":0,\"ticks\":\"\"}},\"type\":\"scatterpolar\"}],\"scatterpolargl\":[{\"marker\":{\"colorbar\":{\"outlinewidth\":0,\"ticks\":\"\"}},\"type\":\"scatterpolargl\"}],\"scatterternary\":[{\"marker\":{\"colorbar\":{\"outlinewidth\":0,\"ticks\":\"\"}},\"type\":\"scatterternary\"}],\"surface\":[{\"colorbar\":{\"outlinewidth\":0,\"ticks\":\"\"},\"colorscale\":[[0.0,\"#0d0887\"],[0.1111111111111111,\"#46039f\"],[0.2222222222222222,\"#7201a8\"],[0.3333333333333333,\"#9c179e\"],[0.4444444444444444,\"#bd3786\"],[0.5555555555555556,\"#d8576b\"],[0.6666666666666666,\"#ed7953\"],[0.7777777777777778,\"#fb9f3a\"],[0.8888888888888888,\"#fdca26\"],[1.0,\"#f0f921\"]],\"type\":\"surface\"}],\"table\":[{\"cells\":{\"fill\":{\"color\":\"#EBF0F8\"},\"line\":{\"color\":\"white\"}},\"header\":{\"fill\":{\"color\":\"#C8D4E3\"},\"line\":{\"color\":\"white\"}},\"type\":\"table\"}]},\"layout\":{\"annotationdefaults\":{\"arrowcolor\":\"#2a3f5f\",\"arrowhead\":0,\"arrowwidth\":1},\"autotypenumbers\":\"strict\",\"coloraxis\":{\"colorbar\":{\"outlinewidth\":0,\"ticks\":\"\"}},\"colorscale\":{\"diverging\":[[0,\"#8e0152\"],[0.1,\"#c51b7d\"],[0.2,\"#de77ae\"],[0.3,\"#f1b6da\"],[0.4,\"#fde0ef\"],[0.5,\"#f7f7f7\"],[0.6,\"#e6f5d0\"],[0.7,\"#b8e186\"],[0.8,\"#7fbc41\"],[0.9,\"#4d9221\"],[1,\"#276419\"]],\"sequential\":[[0.0,\"#0d0887\"],[0.1111111111111111,\"#46039f\"],[0.2222222222222222,\"#7201a8\"],[0.3333333333333333,\"#9c179e\"],[0.4444444444444444,\"#bd3786\"],[0.5555555555555556,\"#d8576b\"],[0.6666666666666666,\"#ed7953\"],[0.7777777777777778,\"#fb9f3a\"],[0.8888888888888888,\"#fdca26\"],[1.0,\"#f0f921\"]],\"sequentialminus\":[[0.0,\"#0d0887\"],[0.1111111111111111,\"#46039f\"],[0.2222222222222222,\"#7201a8\"],[0.3333333333333333,\"#9c179e\"],[0.4444444444444444,\"#bd3786\"],[0.5555555555555556,\"#d8576b\"],[0.6666666666666666,\"#ed7953\"],[0.7777777777777778,\"#fb9f3a\"],[0.8888888888888888,\"#fdca26\"],[1.0,\"#f0f921\"]]},\"colorway\":[\"#636efa\",\"#EF553B\",\"#00cc96\",\"#ab63fa\",\"#FFA15A\",\"#19d3f3\",\"#FF6692\",\"#B6E880\",\"#FF97FF\",\"#FECB52\"],\"font\":{\"color\":\"#2a3f5f\"},\"geo\":{\"bgcolor\":\"white\",\"lakecolor\":\"white\",\"landcolor\":\"#E5ECF6\",\"showlakes\":true,\"showland\":true,\"subunitcolor\":\"white\"},\"hoverlabel\":{\"align\":\"left\"},\"hovermode\":\"closest\",\"mapbox\":{\"style\":\"light\"},\"paper_bgcolor\":\"white\",\"plot_bgcolor\":\"#E5ECF6\",\"polar\":{\"angularaxis\":{\"gridcolor\":\"white\",\"linecolor\":\"white\",\"ticks\":\"\"},\"bgcolor\":\"#E5ECF6\",\"radialaxis\":{\"gridcolor\":\"white\",\"linecolor\":\"white\",\"ticks\":\"\"}},\"scene\":{\"xaxis\":{\"backgroundcolor\":\"#E5ECF6\",\"gridcolor\":\"white\",\"gridwidth\":2,\"linecolor\":\"white\",\"showbackground\":true,\"ticks\":\"\",\"zerolinecolor\":\"white\"},\"yaxis\":{\"backgroundcolor\":\"#E5ECF6\",\"gridcolor\":\"white\",\"gridwidth\":2,\"linecolor\":\"white\",\"showbackground\":true,\"ticks\":\"\",\"zerolinecolor\":\"white\"},\"zaxis\":{\"backgroundcolor\":\"#E5ECF6\",\"gridcolor\":\"white\",\"gridwidth\":2,\"linecolor\":\"white\",\"showbackground\":true,\"ticks\":\"\",\"zerolinecolor\":\"white\"}},\"shapedefaults\":{\"line\":{\"color\":\"#2a3f5f\"}},\"ternary\":{\"aaxis\":{\"gridcolor\":\"white\",\"linecolor\":\"white\",\"ticks\":\"\"},\"baxis\":{\"gridcolor\":\"white\",\"linecolor\":\"white\",\"ticks\":\"\"},\"bgcolor\":\"#E5ECF6\",\"caxis\":{\"gridcolor\":\"white\",\"linecolor\":\"white\",\"ticks\":\"\"}},\"title\":{\"x\":0.05},\"xaxis\":{\"automargin\":true,\"gridcolor\":\"white\",\"linecolor\":\"white\",\"ticks\":\"\",\"title\":{\"standoff\":15},\"zerolinecolor\":\"white\",\"zerolinewidth\":2},\"yaxis\":{\"automargin\":true,\"gridcolor\":\"white\",\"linecolor\":\"white\",\"ticks\":\"\",\"title\":{\"standoff\":15},\"zerolinecolor\":\"white\",\"zerolinewidth\":2}}},\"xaxis\":{\"rangeslider\":{\"visible\":false}}},                        {\"responsive\": true}                    ).then(function(){\n",
              "                            \n",
              "var gd = document.getElementById('96b4a0ad-3d29-4dfa-bce0-6c03211cf0a1');\n",
              "var x = new MutationObserver(function (mutations, observer) {{\n",
              "        var display = window.getComputedStyle(gd).display;\n",
              "        if (!display || display === 'none') {{\n",
              "            console.log([gd, 'removed!']);\n",
              "            Plotly.purge(gd);\n",
              "            observer.disconnect();\n",
              "        }}\n",
              "}});\n",
              "\n",
              "// Listen for the removal of the full notebook cells\n",
              "var notebookContainer = gd.closest('#notebook-container');\n",
              "if (notebookContainer) {{\n",
              "    x.observe(notebookContainer, {childList: true});\n",
              "}}\n",
              "\n",
              "// Listen for the clearing of the current output cell\n",
              "var outputEl = gd.closest('.output');\n",
              "if (outputEl) {{\n",
              "    x.observe(outputEl, {childList: true});\n",
              "}}\n",
              "\n",
              "                        })                };                            </script>        </div>\n",
              "</body>\n",
              "</html>"
            ]
          },
          "metadata": {}
        }
      ]
    },
    {
      "cell_type": "markdown",
      "metadata": {
        "id": "VcU9uTkkYB2n"
      },
      "source": [
        "## Authors:\n",
        "\n",
        "## Change Log\n",
        "\n",
        "| Date (YYYY-MM-DD) | Version | Changed By    | Change Description                 |\n",
        "| ----------------- | ------- | ------------- | ---------------------------------- |\n",
        "| 2020-11-23        | 3.0     | Azim Hirjani  | New API                            |\n",
        "| 2020-09-09        | 2.1     | Malika Singla | Spell Check                        |\n",
        "| 2020-08-26        | 2.0     | Lavanya       | Moved lab to course repo in GitLab |\n",
        "|                   |         |               |                                    |\n",
        "\n",
        "<hr/>\n",
        "\n",
        "## <h3 align=\"center\"> © IBM Corporation 2020. All rights reserved. <h3/>\n"
      ]
    },
    {
      "cell_type": "code",
      "metadata": {
        "id": "Yzd4CGhAYB2o"
      },
      "source": [
        ""
      ],
      "execution_count": null,
      "outputs": []
    }
  ]
}