{
  "nbformat": 4,
  "nbformat_minor": 0,
  "metadata": {
    "kernelspec": {
      "display_name": "Python 3",
      "language": "python",
      "name": "python3"
    },
    "language_info": {
      "codemirror_mode": {
        "name": "ipython",
        "version": 3
      },
      "file_extension": ".py",
      "mimetype": "text/x-python",
      "name": "python",
      "nbconvert_exporter": "python",
      "pygments_lexer": "ipython3",
      "version": "3.7.6"
    },
    "colab": {
      "name": "Lab 12.2-WriteFile.ipynb",
      "provenance": []
    }
  },
  "cells": [
    {
      "cell_type": "markdown",
      "metadata": {
        "id": "42j_kE86w0Uz"
      },
      "source": [
        "<center>\n",
        "    <img src=\"https://cf-courses-data.s3.us.cloud-object-storage.appdomain.cloud/IBMDeveloperSkillsNetwork-PY0101EN-SkillsNetwork/IDSNlogo.png\" width=\"300\" alt=\"cognitiveclass.ai logo\"  />\n",
        "</center>\n",
        "\n",
        "# Write and Save Files in Python\n",
        "\n",
        "Estimated time needed: **25** minutes\n",
        "\n",
        "## Objectives\n",
        "\n",
        "After completing this lab you will be able to:\n",
        "\n",
        "-   Write to files using Python libraries\n"
      ]
    },
    {
      "cell_type": "markdown",
      "metadata": {
        "id": "dViLRKmdw0WU"
      },
      "source": [
        "<h2>Table of Contents</h2>\n",
        "<div class=\"alert alert-block alert-info\" style=\"margin-top: 20px\">\n",
        "    <ul>\n",
        "        <li><a href=\"write\">Writing Files</a></li>\n",
        "        <li><a href=\"Append\">Appending Files</a></li>\n",
        "        <li><a href=\"add\">Additional File modes</a></li>\n",
        "        <li><a href=\"copy\">Copy a File</a></li>\n",
        "    </ul>\n",
        "\n",
        "</div>\n",
        "\n",
        "<hr>\n"
      ]
    },
    {
      "cell_type": "markdown",
      "metadata": {
        "id": "XydSkDdAw0Wh"
      },
      "source": [
        "<h2 id=\"write\">Writing Files</h2>\n"
      ]
    },
    {
      "cell_type": "markdown",
      "metadata": {
        "id": "RQrQNQf3w0Wx"
      },
      "source": [
        " We can open a file object using the method <code>write()</code> to save the text file to a list. To write the mode, argument must be set to write <b>w</b>. Let’s write a file <b>Example2.txt</b> with the line: <b>“This is line A”</b>\n"
      ]
    },
    {
      "cell_type": "code",
      "metadata": {
        "id": "3NcsBK9bw0Wz"
      },
      "source": [
        "# Write line to file\n",
        "exmp2 = 'Example2.txt'\n",
        "with open(exmp2, 'w') as writefile:\n",
        "    writefile.write(\"This is line A\")"
      ],
      "execution_count": 3,
      "outputs": []
    },
    {
      "cell_type": "markdown",
      "source": [
        "# Mục mới"
      ],
      "metadata": {
        "id": "KWYy2P5ACoNG"
      }
    },
    {
      "cell_type": "markdown",
      "metadata": {
        "id": "9niDGAaEw0W1"
      },
      "source": [
        " We can read the file to see if it worked:\n"
      ]
    },
    {
      "cell_type": "code",
      "metadata": {
        "id": "lZFKxH9Qw0W2",
        "outputId": "3c3c2188-2b7b-416f-d5f0-76afc145c62e",
        "colab": {
          "base_uri": "https://localhost:8080/"
        }
      },
      "source": [
        "# Read file\n",
        "\n",
        "with open(exmp2, 'r') as testwritefile:\n",
        "    print(testwritefile.read())"
      ],
      "execution_count": 4,
      "outputs": [
        {
          "output_type": "stream",
          "name": "stdout",
          "text": [
            "This is line A\n"
          ]
        }
      ]
    },
    {
      "cell_type": "markdown",
      "metadata": {
        "id": "XDJ7jhfWw0W3"
      },
      "source": [
        "We can write multiple lines:\n"
      ]
    },
    {
      "cell_type": "code",
      "metadata": {
        "id": "5893kuW3w0W4"
      },
      "source": [
        "# Write lines to file\n",
        "\n",
        "with open(exmp2, 'w') as writefile:\n",
        "    writefile.write(\"This is line A\\n\")\n",
        "    writefile.write(\"This is line B\\n\")"
      ],
      "execution_count": 5,
      "outputs": []
    },
    {
      "cell_type": "markdown",
      "metadata": {
        "id": "-LqstDJiw0ZY"
      },
      "source": [
        "The method <code>.write()</code> works similar to the method <code>.readline()</code>, except instead of reading a new line it writes a new line. The process is illustrated in the figure , the different colour coding of the grid represents a new line added to the file after each method call.\n"
      ]
    },
    {
      "cell_type": "markdown",
      "metadata": {
        "id": "c5BqhL8Yw0Zo"
      },
      "source": [
        "<img src=\"https://cf-courses-data.s3.us.cloud-object-storage.appdomain.cloud/IBMDeveloperSkillsNetwork-PY0101EN-SkillsNetwork/labs/Module%204/images/WriteLine.png\" width=\"500\" />\n"
      ]
    },
    {
      "cell_type": "markdown",
      "metadata": {
        "id": "6c_VlU-uw0Zp"
      },
      "source": [
        "You can check the file to see if your results are correct \n"
      ]
    },
    {
      "cell_type": "code",
      "metadata": {
        "id": "pAdboGamw0Zq",
        "outputId": "996c9be4-3a0c-495a-c155-8d21be8903e6",
        "colab": {
          "base_uri": "https://localhost:8080/"
        }
      },
      "source": [
        "# Check whether write to file\n",
        "\n",
        "with open(exmp2, 'r') as testwritefile:\n",
        "    print(testwritefile.read())"
      ],
      "execution_count": 6,
      "outputs": [
        {
          "output_type": "stream",
          "name": "stdout",
          "text": [
            "This is line A\n",
            "This is line B\n",
            "\n"
          ]
        }
      ]
    },
    {
      "cell_type": "markdown",
      "metadata": {
        "id": "_9WexDdUw0Zr"
      },
      "source": [
        " We write a list to a <b>.txt</b> file  as follows:\n"
      ]
    },
    {
      "cell_type": "code",
      "metadata": {
        "id": "ilxmLoEJw0Zz",
        "outputId": "011fe214-8f6a-45f5-96da-bba65b25c035",
        "colab": {
          "base_uri": "https://localhost:8080/"
        }
      },
      "source": [
        "# Sample list of text\n",
        "\n",
        "Lines = [\"This is line A\\n\", \"This is line B\\n\", \"This is line C\\n\"]\n",
        "Lines"
      ],
      "execution_count": 7,
      "outputs": [
        {
          "output_type": "execute_result",
          "data": {
            "text/plain": [
              "['This is line A\\n', 'This is line B\\n', 'This is line C\\n']"
            ]
          },
          "metadata": {},
          "execution_count": 7
        }
      ]
    },
    {
      "cell_type": "code",
      "metadata": {
        "id": "-8X96FA4w0bA",
        "outputId": "a97f9fc9-5aa1-438d-d59d-a31856ac5946",
        "colab": {
          "base_uri": "https://localhost:8080/"
        }
      },
      "source": [
        "# Write the strings in the list to text file\n",
        "\n",
        "with open('Example2.txt', 'w') as writefile:\n",
        "    for line in Lines:\n",
        "        print(line)\n",
        "        writefile.write(line)"
      ],
      "execution_count": 8,
      "outputs": [
        {
          "output_type": "stream",
          "name": "stdout",
          "text": [
            "This is line A\n",
            "\n",
            "This is line B\n",
            "\n",
            "This is line C\n",
            "\n"
          ]
        }
      ]
    },
    {
      "cell_type": "markdown",
      "metadata": {
        "id": "PHTdnAQSw0bB"
      },
      "source": [
        " We can verify the file is written by reading it and printing out the values:  \n"
      ]
    },
    {
      "cell_type": "code",
      "metadata": {
        "id": "Pa86Luraw0bD",
        "outputId": "8cd3094e-cb3b-4b81-c8e6-7029b1480892",
        "colab": {
          "base_uri": "https://localhost:8080/"
        }
      },
      "source": [
        "# Verify if writing to file is successfully executed\n",
        "\n",
        "with open('Example2.txt', 'r') as testwritefile:\n",
        "    print(testwritefile.read())"
      ],
      "execution_count": 10,
      "outputs": [
        {
          "output_type": "stream",
          "name": "stdout",
          "text": [
            "This is line A\n",
            "This is line B\n",
            "This is line C\n",
            "\n"
          ]
        }
      ]
    },
    {
      "cell_type": "markdown",
      "metadata": {
        "id": "TOHj89Fmw0bF"
      },
      "source": [
        "However, note that setting the mode to **w** overwrites all the existing data in the file.\n"
      ]
    },
    {
      "cell_type": "code",
      "metadata": {
        "id": "Jli2L0XTw0bF",
        "outputId": "d04fc934-0452-46f0-b903-b0a817ad4184",
        "colab": {
          "base_uri": "https://localhost:8080/"
        }
      },
      "source": [
        "with open('Example2.txt', 'w') as writefile:\n",
        "    writefile.write(\"Overwrite\\n\")\n",
        "with open('Example2.txt', 'r') as testwritefile:\n",
        "    print(testwritefile.read())"
      ],
      "execution_count": 11,
      "outputs": [
        {
          "output_type": "stream",
          "name": "stdout",
          "text": [
            "Overwrite\n",
            "\n"
          ]
        }
      ]
    },
    {
      "cell_type": "markdown",
      "metadata": {
        "id": "AsgO3ZYIw0bG"
      },
      "source": [
        "<hr>\n",
        "<h2 id=\"Append\">Appending Files</h2>\n"
      ]
    },
    {
      "cell_type": "markdown",
      "metadata": {
        "id": "hezndfTuw0bL"
      },
      "source": [
        " We can write to files without losing any of the existing data as follows by setting the mode argument to append **a**.  you can append a new line as follows:\n"
      ]
    },
    {
      "cell_type": "code",
      "metadata": {
        "id": "YAU5pHCYw0bN"
      },
      "source": [
        "# Write a new line to text file\n",
        "\n",
        "with open('Example2.txt', 'a') as testwritefile:\n",
        "    testwritefile.write(\"This is line C\\n\")\n",
        "    testwritefile.write(\"This is line D\\n\")\n",
        "    testwritefile.write(\"This is line E\\n\")"
      ],
      "execution_count": 12,
      "outputs": []
    },
    {
      "cell_type": "markdown",
      "metadata": {
        "id": "PNG2rXkXw0bU"
      },
      "source": [
        " You can verify the file has changed by running the following cell:\n"
      ]
    },
    {
      "cell_type": "code",
      "metadata": {
        "id": "7yCekZ3Aw0bV",
        "outputId": "2969fcfb-246d-4a71-cbed-5af9fb6e2294",
        "colab": {
          "base_uri": "https://localhost:8080/"
        }
      },
      "source": [
        "# Verify if the new line is in the text file\n",
        "\n",
        "with open('Example2.txt', 'r') as testwritefile:\n",
        "    print(testwritefile.read())"
      ],
      "execution_count": 13,
      "outputs": [
        {
          "output_type": "stream",
          "name": "stdout",
          "text": [
            "Overwrite\n",
            "This is line C\n",
            "This is line D\n",
            "This is line E\n",
            "\n"
          ]
        }
      ]
    },
    {
      "cell_type": "markdown",
      "metadata": {
        "id": "8isJQ51fw0bi"
      },
      "source": [
        "<hr>\n",
        "<h2 id=\"add\">Additional modes</h2> \n"
      ]
    },
    {
      "cell_type": "markdown",
      "metadata": {
        "id": "dHSonJMUw0bj"
      },
      "source": [
        "It's fairly ineffecient to open the file in **a** or **w** and then reopening it in **r** to read any lines. Luckily we can access the file in the following modes:\n",
        "\n",
        "-   **r+** : Reading and writing. Cannot truncate the file.\n",
        "-   **w+** : Writing and reading. Truncates the file.\n",
        "-   **a+** : Appending and Reading. Creates a new file, if none exists.\n",
        "    You dont have to dwell on the specifics of each mode for this lab. \n"
      ]
    },
    {
      "cell_type": "markdown",
      "metadata": {
        "id": "9EOj6dRhw0bk"
      },
      "source": [
        "Let's try out the **a+** mode:\n"
      ]
    },
    {
      "cell_type": "code",
      "metadata": {
        "id": "BPbCBh7sw0bk",
        "outputId": "9364f79f-7448-4c28-8f06-71b63402bc47",
        "colab": {
          "base_uri": "https://localhost:8080/"
        }
      },
      "source": [
        "with open('Example2.txt', 'a+') as testwritefile:\n",
        "    testwritefile.write(\"This is line E\\n\")\n",
        "    print(testwritefile.read())"
      ],
      "execution_count": 14,
      "outputs": [
        {
          "output_type": "stream",
          "name": "stdout",
          "text": [
            "\n"
          ]
        }
      ]
    },
    {
      "cell_type": "markdown",
      "metadata": {
        "id": "XkyZgGAbw0bl"
      },
      "source": [
        "There were no errors but <code>read() </code> also did not output anything. This is because of our location in the file.\n"
      ]
    },
    {
      "cell_type": "markdown",
      "metadata": {
        "id": "eDOWU_lqw0bm"
      },
      "source": [
        "Most of the file methods we've looked at work in a certain location in the file. <code>.write() </code> writes at a certain location in the file. <code>.read()</code> reads at a certain location in the file and so on. You can think of this as moving your pointer around in the notepad to make changes at specific location.\n"
      ]
    },
    {
      "cell_type": "markdown",
      "metadata": {
        "id": "53_Aq-rkw0bn"
      },
      "source": [
        "Opening the file in **w** is akin to opening the .txt file, moving your cursor to the beginning of the text file, writing new text and deleting everything that follows.\n",
        "Whereas opening the file in **a** is similiar to opening the .txt file, moving your cursor to the very end and then adding the new pieces of text. <br>\n",
        "It is often very useful to know where the 'cursor' is in a file and be able to control it. The following methods allow us to do precisely this -\n",
        "\n",
        "-   <code>.tell()</code> - returns the current position in bytes\n",
        "-   <code>.seek(offset,from)</code> - changes the position by 'offset' bytes with respect to 'from'. From can take the value of 0,1,2 corresponding to beginning, relative to current position and end\n"
      ]
    },
    {
      "cell_type": "markdown",
      "metadata": {
        "id": "NIOfwWOsw0bv"
      },
      "source": [
        "Now lets revisit **a+**\n"
      ]
    },
    {
      "cell_type": "code",
      "metadata": {
        "id": "HKEyn1LGw0bv",
        "outputId": "e1390868-f746-41b0-c35c-bd9bf18e44fe",
        "colab": {
          "base_uri": "https://localhost:8080/"
        }
      },
      "source": [
        "with open('Example2.txt', 'a+') as testwritefile:\n",
        "    print(\"Initial Location: {}\".format(testwritefile.tell()))\n",
        "    \n",
        "    data = testwritefile.read()\n",
        "    if (not data):  #empty strings return false in python\n",
        "            print('Read nothing') \n",
        "    else: \n",
        "            print(testwritefile.read())\n",
        "            \n",
        "    testwritefile.seek(0,0) # move 0 bytes from beginning.\n",
        "    \n",
        "    print(\"\\nNew Location : {}\".format(testwritefile.tell()))\n",
        "    data = testwritefile.read()\n",
        "    if (not data): \n",
        "            print('Read nothing') \n",
        "    else: \n",
        "            print(data)\n",
        "    \n",
        "    print(\"Location after read: {}\".format(testwritefile.tell()) )"
      ],
      "execution_count": 15,
      "outputs": [
        {
          "output_type": "stream",
          "name": "stdout",
          "text": [
            "Initial Location: 70\n",
            "Read nothing\n",
            "\n",
            "New Location : 0\n",
            "Overwrite\n",
            "This is line C\n",
            "This is line D\n",
            "This is line E\n",
            "This is line E\n",
            "\n",
            "Location after read: 70\n"
          ]
        }
      ]
    },
    {
      "cell_type": "markdown",
      "metadata": {
        "id": "JVH4vhzcw0bx"
      },
      "source": [
        "Finally, a note on the difference between **w+** and **r+**. Both of these modes allow access to read and write methods, However opening a file in **w+** overwrites it and deletes all existing data. <br>\n",
        "To work with a file on existing data, use **r+** and **a+**. While using **r+**, it can be useful to add a <code>.truncate()</code> method at the end of your data. This will reduce the file to your data and delete everything that follows. <br>\n",
        "In the following code block, Run the code as it is first and then run it with the <code>.truncate()</code>.\n"
      ]
    },
    {
      "cell_type": "code",
      "metadata": {
        "id": "NHVY0WaVw0by",
        "outputId": "d54edf3f-dcc0-4655-ed70-906c620e53fa",
        "colab": {
          "base_uri": "https://localhost:8080/"
        }
      },
      "source": [
        "with open('Example2.txt', 'r+') as testwritefile:\n",
        "    data = testwritefile.readlines()\n",
        "    testwritefile.seek(0,0) #write at beginning of file\n",
        "   \n",
        "    testwritefile.write(\"Line 1\" + \"\\n\")\n",
        "    testwritefile.write(\"Line 2\" + \"\\n\")\n",
        "    testwritefile.write(\"Line 3\" + \"\\n\")\n",
        "    testwritefile.write(\"finished\\n\")\n",
        "    #Uncomment the line below\n",
        "    #testwritefile.truncate()\n",
        "    testwritefile.seek(0,0)\n",
        "    print(testwritefile.read())\n",
        "    "
      ],
      "execution_count": 16,
      "outputs": [
        {
          "output_type": "stream",
          "name": "stdout",
          "text": [
            "Line 1\n",
            "Line 2\n",
            "Line 3\n",
            "finished\n",
            "is line D\n",
            "This is line E\n",
            "This is line E\n",
            "\n"
          ]
        }
      ]
    },
    {
      "cell_type": "markdown",
      "metadata": {
        "id": "_NihxKOqw0bz"
      },
      "source": [
        "<hr>\n"
      ]
    },
    {
      "cell_type": "markdown",
      "metadata": {
        "id": "UG8StLbqw0bz"
      },
      "source": [
        "<h2 id=\"copy\">Copy a File</h2> \n"
      ]
    },
    {
      "cell_type": "markdown",
      "metadata": {
        "id": "1VSdntMAw0b0"
      },
      "source": [
        "Let's copy the file <b>Example2.txt</b> to the file <b>Example3.txt</b>:\n"
      ]
    },
    {
      "cell_type": "code",
      "metadata": {
        "id": "Gmu8-xl_w0b1"
      },
      "source": [
        "# Copy file to another\n",
        "\n",
        "with open('Example2.txt','r') as readfile:\n",
        "    with open('Example3.txt','w') as writefile:\n",
        "          for line in readfile:\n",
        "                writefile.write(line)"
      ],
      "execution_count": 17,
      "outputs": []
    },
    {
      "cell_type": "markdown",
      "metadata": {
        "id": "GikC2I4Pw0b2"
      },
      "source": [
        "We can read the file to see if everything works:\n"
      ]
    },
    {
      "cell_type": "code",
      "metadata": {
        "id": "kIh4yUkYw0b2",
        "outputId": "1c296f0d-6f56-4960-e2f4-7e96aa66d175",
        "colab": {
          "base_uri": "https://localhost:8080/"
        }
      },
      "source": [
        "# Verify if the copy is successfully executed\n",
        "\n",
        "with open('Example3.txt','r') as testwritefile:\n",
        "    print(testwritefile.read())"
      ],
      "execution_count": 18,
      "outputs": [
        {
          "output_type": "stream",
          "name": "stdout",
          "text": [
            "Line 1\n",
            "Line 2\n",
            "Line 3\n",
            "finished\n",
            "is line D\n",
            "This is line E\n",
            "This is line E\n",
            "\n"
          ]
        }
      ]
    },
    {
      "cell_type": "markdown",
      "metadata": {
        "id": "4Z9oQLtTw0b3"
      },
      "source": [
        " After reading files, we can also write data into files and save them in different file formats like **.txt, .csv, .xls (for excel files) etc**. You will come across these in further examples\n"
      ]
    },
    {
      "cell_type": "markdown",
      "metadata": {
        "id": "TntVwl_Aw0dT"
      },
      "source": [
        "Now go to the directory to ensure the <b>.txt</b> file exists and contains the summary data that we wrote.\n"
      ]
    },
    {
      "cell_type": "markdown",
      "metadata": {
        "id": "s0vTKBBtw0dT"
      },
      "source": [
        "<hr>\n"
      ]
    },
    {
      "cell_type": "markdown",
      "metadata": {
        "id": "TGB_Izy3w0dU"
      },
      "source": [
        "<h2> Exercise </h2>\n"
      ]
    },
    {
      "cell_type": "markdown",
      "metadata": {
        "id": "hGK7x0k9w0dU"
      },
      "source": [
        "Your local university's Raptors fan club maintains a register of its active members on a .txt document. Every month they update the file by removing the members who are not active. You have been tasked with automating this with your python skills. <br>\n",
        "Given the file currentMem, Remove each member with a 'no' in their inactive coloumn. Keep track of each of the removed members and append them to the exMem file. Make sure the format of the original files in preserved.   (_Hint: Do this by reading/writing whole lines and ensuring the header remains_ )\n",
        "<br>\n",
        "Run the code block below prior to starting the exercise. The skeleton code has been provided for you, Edit only the cleanFiles function.\n"
      ]
    },
    {
      "cell_type": "code",
      "metadata": {
        "id": "xkhRia93w0dV"
      },
      "source": [
        "#Run this prior to starting the exercise\n",
        "from random import randint as rnd\n",
        "\n",
        "memReg = 'members.txt'\n",
        "exReg = 'inactive.txt'\n",
        "fee =('yes','no')\n",
        "\n",
        "def genFiles(current,old):\n",
        "    with open(current,'w+') as writefile: \n",
        "        writefile.write('Membership No  Date Joined  Active  \\n')\n",
        "        data = \"{:^13}  {:<11}  {:<6}\\n\"\n",
        "\n",
        "        for rowno in range(20):\n",
        "            date = str(rnd(2015,2020))+ '-' + str(rnd(1,12))+'-'+str(rnd(1,25))\n",
        "            writefile.write(data.format(rnd(10000,99999),date,fee[rnd(0,1)]))\n",
        "\n",
        "\n",
        "    with open(old,'w+') as writefile: \n",
        "        writefile.write('Membership No  Date Joined  Active  \\n')\n",
        "        data = \"{:^13}  {:<11}  {:<6}\\n\"\n",
        "        for rowno in range(3):\n",
        "            date = str(rnd(2015,2020))+ '-' + str(rnd(1,12))+'-'+str(rnd(1,25))\n",
        "            writefile.write(data.format(rnd(10000,99999),date,fee[1]))\n",
        "\n",
        "\n",
        "genFiles(memReg,exReg)\n"
      ],
      "execution_count": 125,
      "outputs": []
    },
    {
      "cell_type": "markdown",
      "metadata": {
        "id": "ypFTPpPfw0dl"
      },
      "source": [
        "Start your solution below:\n"
      ]
    },
    {
      "cell_type": "code",
      "source": [
        "with open('members.txt', 'r') as file:\n",
        "    lines = file.readlines()\n",
        "    print(len(lines))\n",
        "    print(lines)\n",
        "  \n",
        "with open('inactive.txt', 'r') as file:\n",
        "    lines = file.readlines()\n",
        "    print(len(lines))\n",
        "    print(lines)"
      ],
      "metadata": {
        "id": "YqeVMIAMJC5L",
        "outputId": "62c020d1-a078-47d0-a68e-03f8c45bb7c0",
        "colab": {
          "base_uri": "https://localhost:8080/"
        }
      },
      "execution_count": 126,
      "outputs": [
        {
          "output_type": "stream",
          "name": "stdout",
          "text": [
            "21\n",
            "['Membership No  Date Joined  Active  \\n', '    15341      2020-7-1     yes   \\n', '    88018      2019-10-11   yes   \\n', '    15328      2018-7-7     yes   \\n', '    24358      2020-8-17    no    \\n', '    31986      2016-7-7     no    \\n', '    50525      2017-6-25    yes   \\n', '    30664      2020-12-10   yes   \\n', '    33900      2015-5-21    no    \\n', '    44280      2016-3-10    no    \\n', '    19201      2018-10-5    no    \\n', '    96019      2017-4-15    yes   \\n', '    71273      2016-9-17    yes   \\n', '    56314      2017-3-19    no    \\n', '    19484      2016-4-1     no    \\n', '    53355      2018-10-22   no    \\n', '    61916      2017-4-17    yes   \\n', '    50773      2017-9-25    no    \\n', '    77785      2019-10-19   yes   \\n', '    25530      2017-6-13    no    \\n', '    88522      2016-3-9     no    \\n']\n",
            "4\n",
            "['Membership No  Date Joined  Active  \\n', '    26661      2017-5-2     no    \\n', '    65773      2016-3-25    no    \\n', '    76000      2015-1-23    no    \\n']\n"
          ]
        }
      ]
    },
    {
      "cell_type": "code",
      "source": [
        "with open('members.txt', 'r') as current:\n",
        "    lines = current.readlines()\n",
        "\n",
        "with open('inactive.txt', 'a') as inactive:\n",
        "    for line in lines:\n",
        "        line_split = [item for item in line.split(' ') if item != '']\n",
        "        if line_split[2] == 'no':\n",
        "            inactive.write(line)\n",
        "\n",
        "with open('members.txt', 'w') as current:\n",
        "    current.write('Membership No  Date Joined  Active  \\n')\n",
        "    for line in lines[1:]:\n",
        "        line_split = [item for item in line.split(' ') if item != '']\n",
        "        if line_split[2] == 'yes':\n",
        "            current.write(line)"
      ],
      "metadata": {
        "id": "LNpm-OKSDyl5"
      },
      "execution_count": 127,
      "outputs": []
    },
    {
      "cell_type": "code",
      "source": [
        "with open('members.txt', 'r') as file:\n",
        "    lines = file.readlines()\n",
        "    print(len(lines))\n",
        "    print(lines)\n",
        "  \n",
        "with open('inactive.txt', 'r') as file:\n",
        "    lines = file.readlines()\n",
        "    print(len(lines))\n",
        "    print(lines)"
      ],
      "metadata": {
        "id": "Wi6jYSezHQ4j",
        "outputId": "074a64b3-ed52-45f6-f0cc-c15b6c920fc5",
        "colab": {
          "base_uri": "https://localhost:8080/"
        }
      },
      "execution_count": 128,
      "outputs": [
        {
          "output_type": "stream",
          "name": "stdout",
          "text": [
            "10\n",
            "['Membership No  Date Joined  Active  \\n', '    15341      2020-7-1     yes   \\n', '    88018      2019-10-11   yes   \\n', '    15328      2018-7-7     yes   \\n', '    50525      2017-6-25    yes   \\n', '    30664      2020-12-10   yes   \\n', '    96019      2017-4-15    yes   \\n', '    71273      2016-9-17    yes   \\n', '    61916      2017-4-17    yes   \\n', '    77785      2019-10-19   yes   \\n']\n",
            "15\n",
            "['Membership No  Date Joined  Active  \\n', '    26661      2017-5-2     no    \\n', '    65773      2016-3-25    no    \\n', '    76000      2015-1-23    no    \\n', '    24358      2020-8-17    no    \\n', '    31986      2016-7-7     no    \\n', '    33900      2015-5-21    no    \\n', '    44280      2016-3-10    no    \\n', '    19201      2018-10-5    no    \\n', '    56314      2017-3-19    no    \\n', '    19484      2016-4-1     no    \\n', '    53355      2018-10-22   no    \\n', '    50773      2017-9-25    no    \\n', '    25530      2017-6-13    no    \\n', '    88522      2016-3-9     no    \\n']\n"
          ]
        }
      ]
    },
    {
      "cell_type": "code",
      "metadata": {
        "id": "HId6IBPPw0dr",
        "outputId": "0809c3ce-8c03-4b0d-c2ce-69eed3ec1f0b",
        "colab": {
          "base_uri": "https://localhost:8080/"
        }
      },
      "source": [
        "\n",
        "def cleanFiles(currentMem,exMem):\n",
        "    '''\n",
        "    currentMem: File containing list of current members\n",
        "    exMem: File containing list of old members\n",
        "    \n",
        "    Removes all rows from currentMem containing 'no' and appends them to exMem\n",
        "    '''\n",
        "    \n",
        "    with open(currentMem, 'r') as current:\n",
        "        lines = current.readlines()\n",
        "\n",
        "    with open(exMem, 'a') as inactive:\n",
        "        for line in lines:\n",
        "            line_split = [item for item in line.split(' ') if item != '']\n",
        "            if line_split[2] == 'no':\n",
        "                inactive.write(line)\n",
        "\n",
        "    with open(currentMem, 'w') as current:\n",
        "        current.write('Membership No  Date Joined  Active  \\n')\n",
        "        for line in lines[1:]:\n",
        "            line_split = [item for item in line.split(' ') if item != '']\n",
        "            if line_split[2] == 'yes':\n",
        "                current.write(line)\n",
        "\n",
        "\n",
        "# Code to help you see the files\n",
        "# Leave as is\n",
        "memReg = 'members.txt'\n",
        "exReg = 'inactive.txt'\n",
        "cleanFiles(memReg,exReg)\n",
        "\n",
        "\n",
        "headers = \"Membership No  Date Joined  Active  \\n\"\n",
        "with open(memReg,'r') as readFile:\n",
        "    print(\"Active Members: \\n\\n\")\n",
        "    print(readFile.read())\n",
        "    \n",
        "with open(exReg,'r') as readFile:\n",
        "    print(\"Inactive Members: \\n\\n\")\n",
        "    print(readFile.read())\n",
        "                \n",
        "    "
      ],
      "execution_count": 129,
      "outputs": [
        {
          "output_type": "stream",
          "name": "stdout",
          "text": [
            "Active Members: \n",
            "\n",
            "\n",
            "Membership No  Date Joined  Active  \n",
            "    15341      2020-7-1     yes   \n",
            "    88018      2019-10-11   yes   \n",
            "    15328      2018-7-7     yes   \n",
            "    50525      2017-6-25    yes   \n",
            "    30664      2020-12-10   yes   \n",
            "    96019      2017-4-15    yes   \n",
            "    71273      2016-9-17    yes   \n",
            "    61916      2017-4-17    yes   \n",
            "    77785      2019-10-19   yes   \n",
            "\n",
            "Inactive Members: \n",
            "\n",
            "\n",
            "Membership No  Date Joined  Active  \n",
            "    26661      2017-5-2     no    \n",
            "    65773      2016-3-25    no    \n",
            "    76000      2015-1-23    no    \n",
            "    24358      2020-8-17    no    \n",
            "    31986      2016-7-7     no    \n",
            "    33900      2015-5-21    no    \n",
            "    44280      2016-3-10    no    \n",
            "    19201      2018-10-5    no    \n",
            "    56314      2017-3-19    no    \n",
            "    19484      2016-4-1     no    \n",
            "    53355      2018-10-22   no    \n",
            "    50773      2017-9-25    no    \n",
            "    25530      2017-6-13    no    \n",
            "    88522      2016-3-9     no    \n",
            "\n"
          ]
        }
      ]
    },
    {
      "cell_type": "markdown",
      "metadata": {
        "id": "lRwdwhlVw0dt"
      },
      "source": [
        "Run the following to verify your code:\n"
      ]
    },
    {
      "cell_type": "code",
      "metadata": {
        "id": "F8RJcP3lw0dw",
        "outputId": "2d3dcf81-e1b3-4e0e-9b7a-e62db14f7504",
        "colab": {
          "base_uri": "https://localhost:8080/"
        }
      },
      "source": [
        "def testMsg(passed):\n",
        "    if passed:\n",
        "       return 'Test Passed'\n",
        "    else :\n",
        "       return 'Test Failed'\n",
        "\n",
        "testWrite = \"testWrite.txt\"\n",
        "testAppend = \"testAppend.txt\" \n",
        "passed = True\n",
        "\n",
        "genFiles(testWrite,testAppend)\n",
        "\n",
        "with open(testWrite,'r') as file:\n",
        "    ogWrite = file.readlines()\n",
        "\n",
        "with open(testAppend,'r') as file:\n",
        "    ogAppend = file.readlines()\n",
        "\n",
        "try:\n",
        "    cleanFiles(testWrite,testAppend)\n",
        "except:\n",
        "    print('Error')\n",
        "\n",
        "with open(testWrite,'r') as file:\n",
        "    clWrite = file.readlines()\n",
        "\n",
        "with open(testAppend,'r') as file:\n",
        "    clAppend = file.readlines()\n",
        "        \n",
        "# checking if total no of rows is same, including headers\n",
        "\n",
        "if (len(ogWrite) + len(ogAppend) != len(clWrite) + len(clAppend)):\n",
        "    print(\"The number of rows do not add up. Make sure your final files have the same header and format.\")\n",
        "    passed = False\n",
        "    \n",
        "for line in clWrite:\n",
        "    if  'no' in line:\n",
        "        passed = False\n",
        "        print(\"Inactive members in file\")\n",
        "        break\n",
        "    else:\n",
        "        if line not in ogWrite:\n",
        "            print(\"Data in file does not match original file\")\n",
        "            passed = False\n",
        "print (\"{}\".format(testMsg(passed)))\n",
        "    \n",
        "\n"
      ],
      "execution_count": 130,
      "outputs": [
        {
          "output_type": "stream",
          "name": "stdout",
          "text": [
            "Test Passed\n"
          ]
        }
      ]
    },
    {
      "cell_type": "markdown",
      "metadata": {
        "id": "kjaKCtxvw0dx"
      },
      "source": [
        "<details><summary>Click here for the solution</summary>\n",
        "\n",
        "```python\n",
        "def cleanFiles(currentMem,exMem):\n",
        "    with open(currentMem,'r+') as writeFile: \n",
        "        with open(exMem,'a+') as appendFile:\n",
        "            #get the data\n",
        "            writeFile.seek(0)\n",
        "            members = writeFile.readlines()\n",
        "            #remove header\n",
        "            header = members[0]\n",
        "            members.pop(0)\n",
        "                \n",
        "            inactive = [member for member in members if ('no' in member)]\n",
        "            '''\n",
        "            The above is the same as \n",
        "\n",
        "            for member in active:\n",
        "            if 'no' in member:\n",
        "                inactive.append(member)\n",
        "            '''\n",
        "            #go to the beginning of the write file\n",
        "            writeFile.seek(0) \n",
        "            writeFile.write(header)\n",
        "            for member in members:\n",
        "                if (member in inactive):\n",
        "                    appendFile.write(member)\n",
        "                else:\n",
        "                    writeFile.write(member)      \n",
        "            writeFile.truncate()\n",
        "                \n",
        "memReg = 'members.txt'\n",
        "exReg = 'inactive.txt'\n",
        "cleanFiles(memReg,exReg)\n",
        "\n",
        "# code to help you see the files\n",
        "\n",
        "headers = \"Membership No  Date Joined  Active  \\n\"\n",
        "\n",
        "with open(memReg,'r') as readFile:\n",
        "    print(\"Active Members: \\n\\n\")\n",
        "    print(readFile.read())\n",
        "    \n",
        "with open(exReg,'r') as readFile:\n",
        "    print(\"Inactive Members: \\n\\n\")\n",
        "    print(readFile.read())\n",
        "    \n",
        "```\n",
        "\n",
        "</details>\n"
      ]
    },
    {
      "cell_type": "markdown",
      "metadata": {
        "id": "eAsnNgyOw0dz"
      },
      "source": [
        "<hr>\n",
        "<h2>The last exercise!</h2>\n",
        "<p>Congratulations, you have completed your first lesson and hands-on lab in Python. However, there is one more thing you need to do. The Data Science community encourages sharing work. The best way to share and showcase your work is to share it on GitHub. By sharing your notebook on GitHub you are not only building your reputation with fellow data scientists, but you can also show it off when applying for a job. Even though this was your first piece of work, it is never too early to start building good habits. So, please read and follow <a href=\"https://cognitiveclass.ai/blog/data-scientists-stand-out-by-sharing-your-notebooks/\" target=\"_blank\">this article</a> to learn how to share your work.\n",
        "<hr>\n"
      ]
    },
    {
      "cell_type": "markdown",
      "metadata": {
        "id": "FPjUejamw0dz"
      },
      "source": [
        "## Author\n",
        "\n",
        "<a href=\"https://www.linkedin.com/in/joseph-s-50398b136/\" target=\"_blank\">Joseph Santarcangelo</a>\n",
        "\n",
        "### Other Contributors\n",
        "\n",
        "<a href=\"www.linkedin.com/in/jiahui-mavis-zhou-a4537814a\">Mavis Zhou</a>\n",
        "\n",
        "## Change Log\n",
        "\n",
        "| Date (YYYY-MM-DD) | Version | Changed By  | Change Description                  |\n",
        "| ----------------- | ------- | ----------- | ----------------------------------- |\n",
        "| 2020-10-16        | 1.3     | Arjun Swani | Added exercise                      |\n",
        "| 2020-10-16        | 1.2     | Arjun Swani | Added section additional file modes |\n",
        "| 2020-10-16        | 1.1     | Arjun Swani | Made append a different section     |\n",
        "| 2020-08-28        | 0.2     | Lavanya     | Moved lab to course repo in GitLab  |\n",
        "\n",
        "<hr>\n",
        "\n",
        "## <h3 align=\"center\"> © IBM Corporation 2020. All rights reserved. <h3/>\n"
      ]
    },
    {
      "cell_type": "code",
      "metadata": {
        "id": "pr5K5ZfEw0d0"
      },
      "source": [
        ""
      ],
      "execution_count": null,
      "outputs": []
    }
  ]
}